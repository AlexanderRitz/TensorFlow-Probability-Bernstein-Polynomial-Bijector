{
 "cells": [
  {
   "cell_type": "markdown",
   "metadata": {},
   "source": [
    "**Copyright 2020 Marcel Arpogaus**\n",
    "\n",
    "    Licensed under the Apache License, Version 2.0 (the \"License\");\n",
    "    you may not use this file except in compliance with the License.\n",
    "    You may obtain a copy of the License at\n",
    " \n",
    "        http://www.apache.org/licenses/LICENSE-2.0\n",
    " \n",
    "    Unless required by applicable law or agreed to in writing, software\n",
    "    distributed under the License is distributed on an \"AS IS\" BASIS,\n",
    "    WITHOUT WARRANTIES OR CONDITIONS OF ANY KIND, either express or implied.\n",
    "    See the License for the specific language governing permissions and\n",
    "    limitations under the License."
   ]
  },
  {
   "cell_type": "markdown",
   "metadata": {},
   "source": [
    "**Note:** You might want to install the [`jupyter_latex_envs`](https://github.com/jfbercher/jupyter_latex_envs/) extension for Jupyter notebook to display the citations correctly."
   ]
  },
  {
   "cell_type": "markdown",
   "metadata": {
    "colab_type": "text",
    "id": "c9cFDRkJIKlZ"
   },
   "source": [
    "# Implementation of Bernstein-Polynomials as TensorFlow Probability Bijector"
   ]
  },
  {
   "cell_type": "markdown",
   "metadata": {},
   "source": [
    "Normalizing flows (NF) \\cite{tabak-FamilyNonparametricDensity-2013} are a type of transformation model that can be used for density estimation.\n",
    "Instead of parameterizing a density function to fit the shape of the desired conditional probability distribution, they use a single simple PDF, usually a Gaussian. As a *base distribution* and pass it through a series of special transformation functions until it is most similar to the *data distribution*.\n",
    "This composition of simple transformation functions allows NF based models to be very expressive, while staying computational efficient \\cite{papamakarios-NormalizingFlowsProbabilistic-2019}.\n",
    "\n",
    "Conditioned normalizing flows can be used for complex conditional density estimation (CDE), without assuming much about their shape \\cite{hothorn-MostLikelyTransformations-2018, sick-DeepTransformationModels-2020}.\n",
    "Their expressiveness is highly dependent on the flexibility of the used transformation functions.\n",
    "A recent study \\cite{sick-DeepTransformationModels-2020} presented a new type of flow-based transformation models especially optimized for CDE.\n",
    "They joined ideas from statistical transformation models \\cite{hothorn-MostLikelyTransformations-2018} as well as deep normalizing flows \\cite{tabak-FamilyNonparametricDensity-2013} and were able to outperform existing models for complex distributions far away from Gaussian.\n",
    "\n",
    "Compared to the statistical transformation models the proposed deep transformation model does not require predefined features and can be trained in an end-to-end fashion from complex data.\n",
    "The very expressive Bernstein polynomials are used as basis transformations \\cite{hothorn-MostLikelyTransformations-2018} combined in a composition of four different transformation functions to build a NF."
   ]
  },
  {
   "cell_type": "markdown",
   "metadata": {},
   "source": [
    "<table class=\"tfo-notebook-buttons\" align=\"left\">\n",
    "  <td>\n",
    "    <a target=\"_blank\" href=\"https://colab.research.google.com/github/MArpogaus/TensorFlow-Probability-Bernstein-Polynomial-Bijector/blob/master/Bernstein_Bijector.ipynb\"><img src=\"https://www.tensorflow.org/images/colab_logo_32px.png\" />Run in Google Colab</a>\n",
    "  </td>\n",
    "  <td>\n",
    "    <a target=\"_blank\" href=\"https://github.com/MArpogaus/TensorFlow-Probability-Bernstein-Polynomial-Bijector/blob/master/Bernstein_Bijector.ipynb\"><img src=\"https://www.tensorflow.org/images/GitHub-Mark-32px.png\" />View source on GitHub</a>\n",
    "  </td>\n",
    "  <td>\n",
    "    <a href=\"https://raw.githubusercontent.com/MArpogaus/TensorFlow-Probability-Bernstein-Polynomial-Bijector/master/Bernstein_Bijector.ipynb\"><img src=\"https://www.tensorflow.org/images/download_logo_32px.png\" />Download notebook</a>\n",
    "  </td>\n",
    "</table>"
   ]
  },
  {
   "cell_type": "markdown",
   "metadata": {
    "toc": true
   },
   "source": [
    "<h1>Table of Contents<span class=\"tocSkip\"></span></h1>\n",
    "<div class=\"toc\"><ul class=\"toc-item\"><li><span><a href=\"#Dependencies-&amp;-Prerequisites\" data-toc-modified-id=\"Dependencies-&amp;-Prerequisites-1\"><span class=\"toc-item-num\">1&nbsp;&nbsp;</span>Dependencies &amp; Prerequisites</a></span><ul class=\"toc-item\"><li><span><a href=\"#Import-Libaries\" data-toc-modified-id=\"Import-Libaries-1.1\"><span class=\"toc-item-num\">1.1&nbsp;&nbsp;</span>Import Libaries</a></span></li><li><span><a href=\"#Ensure-Reproducibility\" data-toc-modified-id=\"Ensure-Reproducibility-1.2\"><span class=\"toc-item-num\">1.2&nbsp;&nbsp;</span>Ensure Reproducibility</a></span></li></ul></li><li><span><a href=\"#Function-Definitions\" data-toc-modified-id=\"Function-Definitions-2\"><span class=\"toc-item-num\">2&nbsp;&nbsp;</span>Function Definitions</a></span></li><li><span><a href=\"#Data\" data-toc-modified-id=\"Data-3\"><span class=\"toc-item-num\">3&nbsp;&nbsp;</span>Data</a></span><ul class=\"toc-item\"><li><span><a href=\"#TensorFlow-Dataset-API\" data-toc-modified-id=\"TensorFlow-Dataset-API-3.1\"><span class=\"toc-item-num\">3.1&nbsp;&nbsp;</span>TensorFlow Dataset API</a></span></li></ul></li><li><span><a href=\"#Bernstein-Polynomials\" data-toc-modified-id=\"Bernstein-Polynomials-4\"><span class=\"toc-item-num\">4&nbsp;&nbsp;</span>Bernstein Polynomials</a></span><ul class=\"toc-item\"><li><span><a href=\"#Bernstein-Basis-Polynomials\" data-toc-modified-id=\"Bernstein-Basis-Polynomials-4.1\"><span class=\"toc-item-num\">4.1&nbsp;&nbsp;</span>Bernstein Basis Polynomials</a></span></li><li><span><a href=\"#Bernstein-Polynomial\" data-toc-modified-id=\"Bernstein-Polynomial-4.2\"><span class=\"toc-item-num\">4.2&nbsp;&nbsp;</span>Bernstein Polynomial</a></span></li></ul></li><li><span><a href=\"#Bernstein-Bijector\" data-toc-modified-id=\"Bernstein-Bijector-5\"><span class=\"toc-item-num\">5&nbsp;&nbsp;</span>Bernstein Bijector</a></span></li><li><span><a href=\"#Conditioned-Normalizing-Flow\" data-toc-modified-id=\"Conditioned-Normalizing-Flow-6\"><span class=\"toc-item-num\">6&nbsp;&nbsp;</span>Conditioned Normalizing Flow</a></span><ul class=\"toc-item\"><li><span><a href=\"#Example:-Bimodal-Distribution\" data-toc-modified-id=\"Example:-Bimodal-Distribution-6.1\"><span class=\"toc-item-num\">6.1&nbsp;&nbsp;</span>Example: Bimodal Distribution</a></span><ul class=\"toc-item\"><li><span><a href=\"#Evaluating\" data-toc-modified-id=\"Evaluating-6.1.1\"><span class=\"toc-item-num\">6.1.1&nbsp;&nbsp;</span>Evaluating</a></span></li><li><span><a href=\"#Sampling\" data-toc-modified-id=\"Sampling-6.1.2\"><span class=\"toc-item-num\">6.1.2&nbsp;&nbsp;</span>Sampling</a></span></li></ul></li></ul></li><li><span><a href=\"#Normalizing-Flow-Network\" data-toc-modified-id=\"Normalizing-Flow-Network-7\"><span class=\"toc-item-num\">7&nbsp;&nbsp;</span>Normalizing Flow Network</a></span><ul class=\"toc-item\"><li><span><a href=\"#Model-Definition\" data-toc-modified-id=\"Model-Definition-7.1\"><span class=\"toc-item-num\">7.1&nbsp;&nbsp;</span>Model Definition</a></span></li><li><span><a href=\"#Training\" data-toc-modified-id=\"Training-7.2\"><span class=\"toc-item-num\">7.2&nbsp;&nbsp;</span>Training</a></span></li><li><span><a href=\"#Testing\" data-toc-modified-id=\"Testing-7.3\"><span class=\"toc-item-num\">7.3&nbsp;&nbsp;</span>Testing</a></span></li></ul></li><li><span><a href=\"#Bernstein-Bijector-as-Loss\" data-toc-modified-id=\"Bernstein-Bijector-as-Loss-8\"><span class=\"toc-item-num\">8&nbsp;&nbsp;</span>Bernstein Bijector as Loss</a></span><ul class=\"toc-item\"><li><span><a href=\"#Model-Definition\" data-toc-modified-id=\"Model-Definition-8.1\"><span class=\"toc-item-num\">8.1&nbsp;&nbsp;</span>Model Definition</a></span></li><li><span><a href=\"#Training\" data-toc-modified-id=\"Training-8.2\"><span class=\"toc-item-num\">8.2&nbsp;&nbsp;</span>Training</a></span></li><li><span><a href=\"#Testing\" data-toc-modified-id=\"Testing-8.3\"><span class=\"toc-item-num\">8.3&nbsp;&nbsp;</span>Testing</a></span></li></ul></li><li><span><a href=\"#Multivariable-Example\" data-toc-modified-id=\"Multivariable-Example-9\"><span class=\"toc-item-num\">9&nbsp;&nbsp;</span>Multivariable Example</a></span><ul class=\"toc-item\"><li><span><a href=\"#Data\" data-toc-modified-id=\"Data-9.1\"><span class=\"toc-item-num\">9.1&nbsp;&nbsp;</span>Data</a></span></li><li><span><a href=\"#Generate-Artificial-Data\" data-toc-modified-id=\"Generate-Artificial-Data-9.2\"><span class=\"toc-item-num\">9.2&nbsp;&nbsp;</span>Generate Artificial Data</a></span></li><li><span><a href=\"#TensorFlow-Dataset-API\" data-toc-modified-id=\"TensorFlow-Dataset-API-9.3\"><span class=\"toc-item-num\">9.3&nbsp;&nbsp;</span>TensorFlow Dataset API</a></span></li><li><span><a href=\"#Model-Definition\" data-toc-modified-id=\"Model-Definition-9.4\"><span class=\"toc-item-num\">9.4&nbsp;&nbsp;</span>Model Definition</a></span></li><li><span><a href=\"#Training\" data-toc-modified-id=\"Training-9.5\"><span class=\"toc-item-num\">9.5&nbsp;&nbsp;</span>Training</a></span></li><li><span><a href=\"#Testing\" data-toc-modified-id=\"Testing-9.6\"><span class=\"toc-item-num\">9.6&nbsp;&nbsp;</span>Testing</a></span></li><li><span><a href=\"#Generate-Data\" data-toc-modified-id=\"Generate-Data-9.7\"><span class=\"toc-item-num\">9.7&nbsp;&nbsp;</span>Generate Data</a></span></li></ul></li></ul></div>"
   ]
  },
  {
   "cell_type": "markdown",
   "metadata": {},
   "source": [
    "##  Dependencies & Prerequisites"
   ]
  },
  {
   "cell_type": "markdown",
   "metadata": {},
   "source": [
    "### Import Libaries"
   ]
  },
  {
   "cell_type": "code",
   "execution_count": 1,
   "metadata": {
    "colab": {
     "base_uri": "https://localhost:8080/",
     "height": 98
    },
    "colab_type": "code",
    "hide_input": false,
    "id": "2HAB5EyxQ3jR",
    "outputId": "99bb56ca-2702-41ea-dc66-969dd7e16903"
   },
   "outputs": [],
   "source": [
    "import os\n",
    "import pandas as pd\n",
    "import numpy as np\n",
    "\n",
    "from functools import partial\n",
    "\n",
    "import scipy.interpolate as I"
   ]
  },
  {
   "cell_type": "code",
   "execution_count": 2,
   "metadata": {
    "colab": {
     "base_uri": "https://localhost:8080/",
     "height": 491
    },
    "colab_type": "code",
    "id": "BgnJJoBIRE12",
    "outputId": "4010cd70-f893-411b-f864-76ae14e991ab"
   },
   "outputs": [],
   "source": [
    "import matplotlib.pyplot as plt\n",
    "import seaborn as sns\n",
    "sns.set(style=\"ticks\", context=\"paper\")  # improved plt styles"
   ]
  },
  {
   "cell_type": "code",
   "execution_count": 3,
   "metadata": {
    "hide_input": false
   },
   "outputs": [],
   "source": [
    "import tensorflow as tf\n",
    "import tensorflow_probability as tfp\n",
    "\n",
    "from tensorflow_probability import distributions as tfd\n",
    "\n",
    "from tensorflow.keras import Model\n",
    "from tensorflow.keras.layers import Dense, Input, Reshape, Concatenate\n",
    "from tensorflow.keras.optimizers import Adam\n",
    "\n",
    "from sklearn.preprocessing import MinMaxScaler"
   ]
  },
  {
   "cell_type": "markdown",
   "metadata": {},
   "source": [
    "Import The Bernstein flow and loss classes."
   ]
  },
  {
   "cell_type": "code",
   "execution_count": 4,
   "metadata": {},
   "outputs": [],
   "source": [
    "from bernstein_flow.bijectors import BernsteinBijector\n",
    "from bernstein_flow.distributions import BernsteinFlow\n",
    "from bernstein_flow.losses import BernsteinFlowLoss"
   ]
  },
  {
   "cell_type": "markdown",
   "metadata": {},
   "source": [
    "Import utility functions to visualize the flow"
   ]
  },
  {
   "cell_type": "code",
   "execution_count": 6,
   "metadata": {},
   "outputs": [],
   "source": [
    "from bernstein_flow.util.visualization import vizualize_flow_from_z_domain\n",
    "from bernstein_flow.util.visualization import plot_chained_bijectors\n",
    "from bernstein_flow.util.visualization import plot_flow"
   ]
  },
  {
   "cell_type": "markdown",
   "metadata": {},
   "source": [
    "### Ensure Reproducibility"
   ]
  },
  {
   "cell_type": "code",
   "execution_count": 7,
   "metadata": {},
   "outputs": [
    {
     "name": "stdout",
     "output_type": "stream",
     "text": [
      "TFP Version 0.11.1\n",
      "TF  Version 2.3.1\n"
     ]
    }
   ],
   "source": [
    "np.random.seed(2)\n",
    "tf.random.set_seed(2)\n",
    "print(\"TFP Version\", tfp.__version__)\n",
    "print(\"TF  Version\", tf.__version__)"
   ]
  },
  {
   "cell_type": "markdown",
   "metadata": {},
   "source": [
    "## Function Definitions"
   ]
  },
  {
   "cell_type": "markdown",
   "metadata": {},
   "source": [
    "We want to directly minimize the negative log-likelihood:"
   ]
  },
  {
   "cell_type": "code",
   "execution_count": 8,
   "metadata": {},
   "outputs": [],
   "source": [
    "def negloglik(y_true, y_hat):\n",
    "    nll = -y_hat.log_prob(y_true)\n",
    "    return nll"
   ]
  },
  {
   "cell_type": "markdown",
   "metadata": {},
   "source": [
    "## Data"
   ]
  },
  {
   "cell_type": "markdown",
   "metadata": {},
   "source": [
    "Classic dataset containing the waiting time between eruptions and the duration of the eruption for the [Old Faithful Geyser](https://en.wikipedia.org/wiki/Old_Faithful) in [Yellowstone National Park](https://en.wikipedia.org/wiki/Yellowstone_National_Park).\n",
    "\n",
    "Extracted from the [built-in dataset in R](https://stat.ethz.ch/R-manual/R-devel/library/datasets/html/faithful.html).\n",
    "\n",
    "Reference: \\cite{azzalini-LookDataOld-1990}"
   ]
  },
  {
   "cell_type": "code",
   "execution_count": 9,
   "metadata": {},
   "outputs": [],
   "source": [
    "y = np.asarray(\n",
    "    (0.6694, 0.3583, 0.6667, 0.6667, 0.6667, 0.3333, 0.7306, 0.7139, 0.3389, 0.8056, 0.3056, 0.9083, 0.2694, 0.8111,\n",
    "     0.7306, 0.2944, 0.7778, 0.3333, 0.7889, 0.7028, 0.3167, 0.8278, 0.3333, 0.6667, 0.3333, 0.6667, 0.4722, 0.75,\n",
    "     0.6778, 0.6194, 0.5861, 0.7444, 0.3694, 0.8139, 0.4333, 0.6917, 0.3667, 0.7944, 0.3056, 0.7667, 0.3778, 0.6889,\n",
    "     0.3333, 0.6667, 0.3333, 0.6667, 0.3139, 0.7111, 0.3472, 0.7444, 0.4167, 0.6667, 0.2944, 0.7222, 0.3639, 0.7472,\n",
    "     0.6472, 0.5556, 0.6222, 0.6667, 0.325, 0.8778, 0.3333, 0.6667, 0.3333, 0.6667, 0.3333, 0.6667, 0.5889, 0.3611, 0.75,\n",
    "     0.3361, 0.6917, 0.7, 0.7222, 0.3222, 0.775, 0.6361, 0.6722, 0.6944, 0.7778, 0.3028, 0.6667, 0.5, 0.6667, 0.3333, 0.7417,\n",
    "     0.3417, 0.7083, 0.3194, 0.7778, 0.2889, 0.7306, 0.2944, 0.7667, 0.3111, 0.7417, 0.2722, 0.8389, 0.3028, 0.85, 0.2722, 0.7139,\n",
    "     0.3333, 0.6667, 0.3333, 0.7556, 0.3333, 0.6667, 0.4889, 0.7889, 0.65, 0.325, 0.6861, 0.3, 0.7778, 0.3056, 0.7833, 0.3528, 0.7972,\n",
    "     0.3028, 0.6833, 0.775, 0.6667, 0.3333, 0.6667, 0.6667, 0.7028, 0.6889, 0.6556, 0.625, 0.7361, 0.4111, 0.6944, 0.6333, 0.7194,\n",
    "     0.6444, 0.7806, 0.2833, 0.8278, 0.7111, 0.7639, 0.6667, 0.6667, 0.6667, 0.6667, 0.3306, 0.7667, 0.1389, 0.8194, 0.2889, 0.7639,\n",
    "     0.2833, 0.7917, 0.3056, 0.75, 0.3111, 0.7417, 0.7417, 0.6667, 0.8, 0.6667, 0.6667, 0.3333, 0.6667, 0.3222, 0.7639, 0.3333, 0.6167,\n",
    "     0.4778, 0.8056, 0.575, 0.7306, 0.3, 0.7333, 0.4139, 0.7528, 0.35, 0.725, 0.7278, 0.2972, 0.8194, 0.3028, 0.6667, 0.6667, 0.6667, 0.6444,\n",
    "     0.3083, 0.7833, 0.3361, 0.7444, 0.3111, 0.6944, 0.3167, 0.7083, 0.5417, 0.7028, 0.3139, 0.8306, 0.3083, 0.6667, 0.3278, 0.7944, 0.6667, 0.3333,\n",
    "     0.6667, 0.6667, 0.3972, 0.7361, 0.7028, 0.7278, 0.3333, 0.7417, 0.2917, 0.75, 0.2694, 0.7833, 0.4278, 0.6167, 0.7056, 0.3222, 0.725, 0.6667, 0.6667,\n",
    "     0.6667, 0.7028, 0.6667, 0.6889, 0.3139, 0.7444, 0.325, 0.7028, 0.2861, 0.7417, 0.7083, 0.6611, 0.7306, 0.3278, 0.7417, 0.7111, 0.3194, 0.7361, 0.5,\n",
    "     0.6667, 0.3333, 0.6667, 0.5472, 0.3056, 0.7694, 0.3056, 0.7694, 0.7667, 0.7083, 0.3222, 0.8306, 0.3278, 0.7167, 0.7, 0.7556, 0.7333, 0.7694, 0.3333,\n",
    "     0.6667, 0.6667, 0.6528, 0.3333, 0.75, 0.3, 0.6667, 0.4583, 0.7889, 0.6611, 0.325, 0.8278, 0.3083, 0.8, 0.6667, 0.6667, 0.6667, 0.6667, 0.6667, 0.6667,\n",
    "     0.6667, 0.3333, 0.6667, 0.3222, 0.7222, 0.2778, 0.7944, 0.325, 0.7806, 0.3222, 0.7361, 0.3556, 0.6806, 0.3444, 0.6667, 0.6667, 0.3333),\n",
    "    np.float32\n",
    ")"
   ]
  },
  {
   "cell_type": "code",
   "execution_count": 10,
   "metadata": {},
   "outputs": [],
   "source": [
    "x = np.ones((y.shape[0], 1))"
   ]
  },
  {
   "cell_type": "markdown",
   "metadata": {},
   "source": [
    "### TensorFlow Dataset API"
   ]
  },
  {
   "cell_type": "markdown",
   "metadata": {},
   "source": [
    "[`tf.data.Dataset`](https://www.tensorflow.org/api_docs/python/tf/data/Dataset) API supports writing descriptive and efficient input pipelines"
   ]
  },
  {
   "cell_type": "code",
   "execution_count": 11,
   "metadata": {},
   "outputs": [
    {
     "data": {
      "text/plain": [
       "<PrefetchDataset shapes: ((None, 1), (None,)), types: (tf.float64, tf.float32)>"
      ]
     },
     "execution_count": 11,
     "metadata": {},
     "output_type": "execute_result"
    }
   ],
   "source": [
    "dataset = tf.data.Dataset.from_tensor_slices((x, y))\n",
    "dataset = dataset.shuffle(buffer_size=len(y))\n",
    "dataset = dataset.batch(32)\n",
    "dataset = dataset.prefetch(1)\n",
    "dataset"
   ]
  },
  {
   "cell_type": "code",
   "execution_count": 12,
   "metadata": {},
   "outputs": [
    {
     "data": {
      "text/plain": [
       "((32, 1), (32,))"
      ]
     },
     "execution_count": 12,
     "metadata": {},
     "output_type": "execute_result"
    }
   ],
   "source": [
    "x_sample, y_sample = next(dataset.as_numpy_iterator())\n",
    "x_sample.shape, y_sample.shape"
   ]
  },
  {
   "cell_type": "markdown",
   "metadata": {
    "colab_type": "text",
    "id": "6X9iuDJbphux"
   },
   "source": [
    "## Bernstein Polynomials"
   ]
  },
  {
   "cell_type": "markdown",
   "metadata": {},
   "source": [
    "### Bernstein Basis Polynomials\n",
    "\n",
    "The Bernstein polynomial basis has been introduced by Sergei Natanovich Bernstein over 100 years ago to facilitate a constructive proof of the Weierstrass approximation theorem.\n",
    "It turned out as a remarkable method for approximating any continuous function, to the desired accuracy over finite domains, and firstly found application in computer-aided geometric design.\n",
    "Due to its excellent numerical stability properties, the diversification of its repertoire of applications steadily increased.\n",
    "A comprehensible survey of the historical development and current state of theory, algorithms, and applications can be found in \\cite{farouki-BernsteinPolynomialBasis-2012}.\n",
    "The Bernstein basis of degree $M$ on $x\\in[0,1]$ is defined by:\n",
    "\n",
    "\\begin{equation}\n",
    "    \\operatorname{Be}_{k}^{M}(x):=\n",
    "        \\left(%\n",
    "            \\begin{array}{l}\n",
    "                M \\\\\n",
    "                k\n",
    "            \\end{array}%\n",
    "        \\right)\n",
    "        (1-x)^{M-k} x^{k}, \\ \\text{with} \\ k=0, \\ldots, M\n",
    "\\end{equation}\n",
    "\n",
    "The Bernstein basis polynomials have two fundamental properties, firstly they are non–negative on $x\\in[0,1]$ and secondly they form a partition of unity, hence\n",
    "\n",
    "\\begin{equation}\n",
    "    \\sum_{i=0}^{n} Be_{i}^{M}(t)=1.\n",
    "\\end{equation}\n",
    "\n",
    "The five Bernstein basis polynomials of degree $M=5$ on $x\\in[0,1]$ along with the cumulative sum are are shown in the following plot."
   ]
  },
  {
   "cell_type": "code",
   "execution_count": 13,
   "metadata": {
    "code_folding": []
   },
   "outputs": [
    {
     "data": {
      "text/plain": [
       "<AxesSubplot:>"
      ]
     },
     "execution_count": 13,
     "metadata": {},
     "output_type": "execute_result"
    },
    {
     "data": {
      "image/png": "[encoded data removed]",
      "text/plain": [
       "<Figure size 1152x576 with 1 Axes>"
      ]
     },
     "metadata": {},
     "output_type": "display_data"
    }
   ],
   "source": [
    "M = 5\n",
    "x = np.linspace(0, 1, 100)\n",
    "d = {}\n",
    "for i in range(M):\n",
    "    c = np.zeros(M).reshape(-1, 1)\n",
    "    c[i] = 1\n",
    "    bp = I.BPoly(c, [0, 1])\n",
    "    d[f'$Be^{M}_{i}$'] = bp(np.linspace(0, 1, 100))\n",
    "\n",
    "df = pd.DataFrame(d, index=x)\n",
    "df[f'$\\sum^{M}_{{i=0}} Be^{M}_i$'] = df.sum(axis='columns')\n",
    "df.plot(figsize=(16, 8))"
   ]
  },
  {
   "cell_type": "markdown",
   "metadata": {},
   "source": [
    "### Bernstein Polynomial"
   ]
  },
  {
   "cell_type": "markdown",
   "metadata": {},
   "source": [
    "The Bernstein basis polynomials of degree $M$ form a basis of polynomials of degree at most $M$ with real coefficients. A linear combination of Bernstein basis polynomials \n",
    "\n",
    "\\begin{equation}\n",
    "    b_{M}(x)=\\sum_{i=0}^{M} \\vartheta_{i} \\operatorname{Be}_{i}^{M}\n",
    "\\end{equation}\n",
    "\n",
    "is then called a Bernstein polynomial of degree $M$, with the Bernstein coefficients $\\vartheta_\\nu$\\cite{farouki-BernsteinPolynomialBasis-2012}.\n",
    "The following plot sows the Bernstein polynomials with increasing order $M=1,\\ldots,5$, and random integer coefficients $\\theta$."
   ]
  },
  {
   "cell_type": "code",
   "execution_count": 14,
   "metadata": {},
   "outputs": [
    {
     "data": {
      "text/plain": [
       "<AxesSubplot:>"
      ]
     },
     "execution_count": 14,
     "metadata": {},
     "output_type": "execute_result"
    },
    {
     "data": {
      "image/png": "[encoded data removed]",
      "text/plain": [
       "<Figure size 1152x576 with 1 Axes>"
      ]
     },
     "metadata": {},
     "output_type": "display_data"
    }
   ],
   "source": [
    "M = 5\n",
    "x = np.linspace(0, 1, 100)\n",
    "d = {}\n",
    "for i in range(1, M):\n",
    "    c = np.random.randint(1, M, (i, 1))\n",
    "    bp = I.BPoly(c, [0, 1])\n",
    "    d[f'$b_{i}(x); \\\\theta=[{\",\".join(c.flatten().astype(str))}]$'] = bp(\n",
    "        np.linspace(0, 1, 100))\n",
    "\n",
    "df = pd.DataFrame(d, index=x)\n",
    "df.plot(figsize=(16, 8))"
   ]
  },
  {
   "cell_type": "markdown",
   "metadata": {},
   "source": [
    "## Bernstein Bijector"
   ]
  },
  {
   "cell_type": "markdown",
   "metadata": {},
   "source": [
    "Implementing the Bernstein polynomial uses the [`tfb.Bijector`](https://www.tensorflow.org/probability/api_docs/python/tfp/bijectors/Bijector) interface for transformations of a `Distribution` sample."
   ]
  },
  {
   "cell_type": "markdown",
   "metadata": {},
   "source": [
    "The monotonicity of a Bernstein polynomial can been ensured via linear constraints (`BernsteinBijector.constrain_theta`) what makes it technically invertible."
   ]
  },
  {
   "cell_type": "markdown",
   "metadata": {},
   "source": [
    "A closed-form solution for the inversion of higher-order Bernstein polynomials is not known.\n",
    "Since extensions of the Bernstein polynomials for interpolations with *piecewise-polynomial functions* (B-Splines) exists \\cite{farouki-BernsteinPolynomialBasis-2012} they are used to approximate the inverse of the Bernstein polynomial.\n",
    "In the implementation above cubic splines have been used for the approximation using a linear interval of $10$ times the polynomial order $M$ points."
   ]
  },
  {
   "cell_type": "code",
   "execution_count": 16,
   "metadata": {},
   "outputs": [
    {
     "name": "stdout",
     "output_type": "stream",
     "text": [
      "tf.Tensor(\n",
      "[[0.05827069 1.019998   1.9252449  3.3965821  4.0797153  4.778073\n",
      "  5.1391077  5.775931   6.178577  ]], shape=(1, 9), dtype=float32)\n",
      "self.batch_shape: (1,)\n",
      "self.order: 9\n",
      "_forward>>>>>>>>\n",
      "y.shape: (200,)\n",
      "y.shape: (200, 1)\n",
      "beta_dist_h.batch_shape: (9,)\n",
      "y.shape: (200, 1)\n",
      "by.shape: (200, 9)\n",
      "z.shape: (200,)\n",
      "_inverse>>>>>>>>\n",
      "z.shape: (200,)\n",
      "z.shape: (200, 1)\n",
      "y_fiy.shape: (90, 1)\n",
      "_forward>>>>>>>>\n",
      "y.shape: (90, 1)\n",
      "y.shape: (90, 1, 1)\n",
      "beta_dist_h.batch_shape: (9,)\n",
      "y.shape: (90, 1, 1)\n",
      "by.shape: (90, 1, 9)\n",
      "z.shape: (90, 1)\n",
      "z_fit.shape: (90, 1)\n",
      "self.z_min.shape: (1, 1)\n",
      "self.z_max.shape: (1, 1)\n",
      "y.shape: (200,)\n"
     ]
    },
    {
     "data": {
      "text/plain": [
       "[<matplotlib.lines.Line2D at 0x7fe20477ce50>]"
      ]
     },
     "execution_count": 16,
     "metadata": {},
     "output_type": "execute_result"
    },
    {
     "data": {
      "image/png": "[encoded data removed]",
      "text/plain": [
       "<Figure size 1152x1152 with 1 Axes>"
      ]
     },
     "metadata": {},
     "output_type": "display_data"
    }
   ],
   "source": [
    "M = 9\n",
    "theta = BernsteinBijector.constrain_theta(\n",
    "    np.random.normal(0, 1, (1, M)).astype(np.float32)\n",
    ")\n",
    "print(theta)\n",
    "bs = BernsteinBijector(\n",
    "    order=M,\n",
    "    theta=theta\n",
    ")\n",
    "yy = np.linspace(0, 1, 200, dtype=np.float32)\n",
    "zz = bs.forward(yy)\n",
    "# Prevent caching -> use spline interpolation\n",
    "zi = zz + 1e-15 * np.random.random(zz.shape)\n",
    "yyy = bs.inverse(zi)\n",
    "\n",
    "plt.figure(figsize=(16, 16))\n",
    "plt.plot(yy, zz)\n",
    "plt.plot(yyy, zi)"
   ]
  },
  {
   "cell_type": "code",
   "execution_count": 17,
   "metadata": {},
   "outputs": [
    {
     "data": {
      "text/plain": [
       "'The MSE of the interpolation in this example is 5.087e-11$.'"
      ]
     },
     "execution_count": 17,
     "metadata": {},
     "output_type": "execute_result"
    }
   ],
   "source": [
    "f'The MSE of the interpolation in this example is {np.sum((np.squeeze(yyy)-yy)**2):.3e}$.'"
   ]
  },
  {
   "cell_type": "markdown",
   "metadata": {},
   "source": [
    "## Conditioned Normalizing Flow"
   ]
  },
  {
   "cell_type": "markdown",
   "metadata": {},
   "source": [
    "Models based on NF have only gained little attention in the research community for CDE and have predominantly been used for variational inference \\cite{kingma-ImprovingVariationalInference-2017,rezende-VariationalInferenceNormalizing-2016} or modeling of complex multi-modal unconditional distributions, for example for image generation \\cite{kingma-GlowGenerativeFlow-2018, dinh-DensityEstimationUsing-2017} or speech synthesis \\cite{oord-ParallelWaveNetFast-2017,oord-WaveNetGenerativeModel-2016}.\n",
    "Compared to conditional VAE \\cite{sohn-LearningStructuredOutput-2015} and conditional GAN \\cite{mirza-ConditionalGenerativeAdversarial-2014} NF based models explicitly estimate the distribution and hence the negative logarithmic likelihood becomes tractable and can be used as loss-function, what makes them attractive for CDE.\n",
    "Very recent research applied NF in that context and has shown very promising results \\cite{rothfuss-NoiseRegularizationConditional-2020, rasul-MultivariateProbabilisticTime-2020, trippe-ConditionalDensityEstimation-2018}.\n",
    "\n",
    "In the original formulation of NF by \\cite{tabak-FamilyNonparametricDensity-2013}, rich density approximations were constructed, by transforming a simple initial density, into a more complex one.\n",
    "This implementation of flows is particularly efficient for generating new samples from the learned data distribution but limited by the inefficiency of evaluating the likelihood of externally provided data since it requires inverting each $f_n$.\n",
    "Depending on the specific implementation it may be sufficient to reverse that direction, to allow the evaluation of likelihoods in constant time.\n",
    "The following illustration  shows a inverse conditioned normalizing flow model, transforming a complex conditioned distribution $p_y(y|x)$ step by step to a simple Gaussian distribution $p_z(z|x)$, conditioned on some value $x$. The visualization was inspired by \\cite{weng-FlowbasedDeepGenerative-2018}.\n",
    "\n",
    "![](../gfx/conditioned_normalizing_flow.svg)\n",
    "\n",
    "Defining the forward mapping from the target $y$ to the base distribution, allows the density to be evaluated in constant time, even for complex transformation functions, which leads to\n",
    "\n",
    "\\begin{equation}\n",
    "    z = t(y,\\boldsymbol{\\theta}_x)\\qquad\\text{with}\\qquad y \\sim p_z(z)\n",
    "\\end{equation}\n",
    "\n",
    "with $t$ being a composition of $K$ bijectors $f_1(y, \\boldsymbol{\\theta}_{1}) \\cdots f_K(y, \\boldsymbol{\\theta}_{K})$, parameterized with the corresponding parameter vector $\\boldsymbol{\\theta}_n=[\\vartheta_1,\\ldots,\\vartheta_l]$.\n",
    "Conditioning the transformed \\emph{base distribution} $p_z(z|\\mathbf{x})$ on the vector $\\mathbf{x}$ is then achieved by, conditioning the parameters $\\boldsymbol{\\theta}_n$ on them.\n",
    "A neural network can be trained to learn the mapping from the input $\\mathbf{x}$ to the parameter vectors $h(\\mathbf{x},\\omega)=\\boldsymbol{\\theta}_x=[\\theta_{1,x},\\ldots,\\theta_{K,x}]^T$, which is then used to parametrize the transformer functions $f_n(y,\\theta_{n,x})$.\n",
    "\n",
    "\\begin{equation}\n",
    "    \\begin{aligned}\n",
    "        z &= t(y|x,\\boldsymbol{\\theta}_x) = (f_K \\circ f_{K-1} \\circ \\cdots \\circ f_1)(y|x,\\boldsymbol{\\theta}_x)\\\\\n",
    "          &= t(y,h(\\mathbf{x},\\omega)) = f_K(\\cdots(f_1(y,\\theta_{1,x} )\\cdots)\\theta_{M,x}\n",
    "    )\n",
    "    \\end{aligned}\n",
    "\\end{equation}.\n",
    "\n",
    "This way each input $\\mathbf{x}$ yields a different parametrization of $t$ and thus results in a different transformation."
   ]
  },
  {
   "cell_type": "markdown",
   "metadata": {},
   "source": [
    "The expressiveness of the NF is highly dependent on the used bijectors.\n",
    "A promising transformation model building upon the works from \\cite{hothorn-MostLikelyTransformations-2018} uses the very expressive Bernstein polynomials as basis transformations combined in a composition of four different transformation functions to define the flow \\cite{sick-DeepTransformationModels-2020}.\n",
    "By joining these ideas from statistical transformation models \\cite{hothorn-MostLikelyTransformations-2018} and deep normalizing flows \\cite{tabak-FamilyNonparametricDensity-2013}, they were able to outperform existing models for complex distributions far away from Gaussian.\n",
    "\n",
    "First a affine transformation $f_1$ is used, which scales and shifts $y$ followed by a sigmoid function to ensure the restriction to the valid range $[0, 1]$:\n",
    "\n",
    "\\begin{equation}\n",
    "   \\sigma \\circ  f_1: \\quad \\tilde{y} = \\sigma(a(\\mathbf{x}) \\cdot y - b(\\mathbf{x}))\n",
    "\\end{equation}\n",
    "\n",
    "To condition the scale and shift parameters $a$ and $b$ in the input vector $\\mathbf{x}$, they are controlled by the output of an artificial neural network with input $\\mathbf{x}$.\n",
    "To ensure monotonicity the softplus activation function is used for $a$, the activation of $b$ is linear.\n",
    "\n",
    "The second transformation $f_2$ is the transformation consisting of a Bernstein polynomial with $M+1$\n",
    "parameters $\\vartheta_0 , \\vartheta_1,\\ldots \\vartheta_M$ which again are controlled by a neural network.\n",
    "\n",
    "\\begin{equation}\n",
    "    f_{2}: \\quad \\tilde{z}=\\frac{1}{M+1} \\sum_{i=0}^{M} \\operatorname{Be}_{i}^M(\\tilde{y}) \\vartheta_{i}(\\mathbf{x})\n",
    "\\end{equation}\n",
    "\n",
    "$Be$ is the Bernstein polynomials of order $M$, generated by the $M + 1$ beta-densities\n",
    "\n",
    "\\begin{equation}\n",
    "    \\operatorname{Be}_i^M(\\tilde{y})=f_{i+1, M-i+1}(\\tilde{y})\n",
    "\\end{equation}\n",
    "\n",
    "Maintaining the monotonicity for the invertibility of $f_2$ can then easily be achieved via a linear constraint on the basis coefficients, a circumstance that the implementation in \\cite{sick-DeepTransformationModels-2020} also took advantage of by simply enforcing that the coefficients $\\theta=[\\vartheta_1,\\ldots\\vartheta_M]^T$ of the polynomial are in increasing order.\n",
    "\n",
    "The last transformation in the chain $f_3$ is again a scale and shift transformation to force the output of $f_3$ into the range of the standard normal distribution.\n",
    "\n",
    "\\begin{equation}\n",
    "    f_{3}: \\quad z=\\alpha(\\mathbf{x}) \\cdot \\tilde{z}-\\beta(\\mathbf{x})\n",
    "\\end{equation}\n",
    "\n",
    "The parameters $\\alpha$ and $\\beta$ are again controlled by a neural network, where the\n",
    "softplus transformation is used to guarantee a positive $\\alpha$.\n",
    "The first experiments showed that the third bijector is not necessary for the performance, but accelerates training.\n",
    "\n",
    "The final transformation function $t(y,h(\\mathbf{x},\\omega)): y \\rightarrow z$ is then obtained by chaining the single transformation functions.\n",
    "\n",
    "\\begin{equation}\\label{eq-sick-flow}\n",
    "    \\begin{aligned}\n",
    "        z &= t(y,h(\\mathbf{x},\\omega)) = (f_3 \\circ f_2 \\circ \\sigma \\circ f_1)(y,h(\\mathbf{x},\\omega))\\\\\n",
    "          &= (f_{3, \\alpha(x), \\beta(x)} \\circ f_{2, \\vartheta_{0}(x), \\ldots, \\vartheta_{M}(x)} \\circ \\sigma \\circ f_{1, a(x), b(x)})(y,x)\n",
    "    \\end{aligned}\n",
    "\\end{equation}.\n",
    "\n",
    "Illustration of a flow transforming from a bimodal distribution, to a standard Gaussian. Image taken from \\cite{sick-DeepTransformationModels-2020}:\n",
    "\n",
    "![Visual representation of the normalizing flow](../gfx/sick_deep_transformation_models_2020_method.svg)"
   ]
  },
  {
   "cell_type": "markdown",
   "metadata": {},
   "source": [
    "### Example: Bimodal Distribution"
   ]
  },
  {
   "cell_type": "code",
   "execution_count": 18,
   "metadata": {},
   "outputs": [
    {
     "data": {
      "text/plain": [
       "array([[-2.        ,  0.3       ,  0.33333334,  0.36666667,  0.4       ,\n",
       "         0.43333334,  0.46666667,  0.5       ,  2.        ]],\n",
       "      dtype=float32)"
      ]
     },
     "execution_count": 18,
     "metadata": {},
     "output_type": "execute_result"
    }
   ],
   "source": [
    "a1 = 3\n",
    "b1 = -4\n",
    "theta = np.array([[-2] +  np.linspace(0.3,0.5,7).tolist() + [2]], dtype=np.float32)\n",
    "a2 = 3\n",
    "b2 = 0\n",
    "theta"
   ]
  },
  {
   "cell_type": "markdown",
   "metadata": {
    "colab_type": "text",
    "id": "6X9iuDJbphux"
   },
   "source": [
    "#### Evaluating\n",
    "\n",
    "\\begin{equation}\n",
    "    p_y(y|\\mathbf{x}) = p_z(t(\\mathbf{y,\\boldsymbol{\\theta}_x})) \\left|\\det\\nabla{t}(\\mathbf{x},\\boldsymbol{\\theta}_x)\\right|\n",
    "\\end{equation}"
   ]
  },
  {
   "cell_type": "code",
   "execution_count": null,
   "metadata": {},
   "outputs": [],
   "source": [
    "flow = build_bernstein_flow(\n",
    "    M=theta.shape[1],\n",
    "    a1=a1,\n",
    "    b1=b1, \n",
    "    theta=theta,\n",
    "    a2=a2,\n",
    "    b2=b2)"
   ]
  },
  {
   "cell_type": "markdown",
   "metadata": {},
   "source": [
    "This Visualization shows how the distribution shapes when flowing through the chain of bijectors from the z-Domain:"
   ]
  },
  {
   "cell_type": "code",
   "execution_count": null,
   "metadata": {},
   "outputs": [],
   "source": [
    "plot_chained_bijectors(flow)"
   ]
  },
  {
   "cell_type": "markdown",
   "metadata": {},
   "source": [
    "This is the shape of the Bernstein polynomial:"
   ]
  },
  {
   "cell_type": "code",
   "execution_count": null,
   "metadata": {},
   "outputs": [],
   "source": [
    "bs=flow.bijector.bijector.bijectors[2]\n",
    "zz = bs.forward(yy)\n",
    "plt.figure(figsize=(16, 16))\n",
    "plt.plot(yy, zz)"
   ]
  },
  {
   "cell_type": "markdown",
   "metadata": {},
   "source": [
    "The final density function along with the transformed mean (black line), variance (green dashed) and quantiles (blue shades):"
   ]
  },
  {
   "cell_type": "code",
   "execution_count": null,
   "metadata": {},
   "outputs": [],
   "source": [
    "n = 100\n",
    "y_samples = np.linspace(0, 3, n, dtype=np.float32)\n",
    "y_probs = flow.prob(y_samples[...,None])\n",
    "\n",
    "plt.figure(figsize=(16,8))\n",
    "plot_flow(flow,y_samples[...,None])"
   ]
  },
  {
   "cell_type": "markdown",
   "metadata": {},
   "source": [
    "The Jacobean matrix *normalizes* the transformed distribution such that it integrates to 1:"
   ]
  },
  {
   "cell_type": "code",
   "execution_count": null,
   "metadata": {},
   "outputs": [],
   "source": [
    "dy = y_samples[1]-y_samples[0]\n",
    "(sum(y_probs)*dy).numpy()"
   ]
  },
  {
   "cell_type": "markdown",
   "metadata": {},
   "source": [
    "#### Sampling\n",
    "\\begin{equation}\n",
    "    y\\sim p_y(y|x) = t^{-1}(z,\\boldsymbol{\\theta}_x)\\qquad\\text{with}~z \\sim p_z(z)\n",
    "\\end{equation}"
   ]
  },
  {
   "cell_type": "markdown",
   "metadata": {},
   "source": [
    "With the approximated inverse sampling from the distribution becomes possible:"
   ]
  },
  {
   "cell_type": "code",
   "execution_count": null,
   "metadata": {},
   "outputs": [],
   "source": [
    "samples=flow.sample(5000)"
   ]
  },
  {
   "cell_type": "code",
   "execution_count": null,
   "metadata": {},
   "outputs": [],
   "source": [
    "fig = plt.figure(figsize=(16,8))\n",
    "sns.distplot(samples.numpy().flatten(),bins=100,label='samples')\n",
    "\n",
    "plt.plot(y_samples, y_probs,label='flow')\n",
    "plt.legend()"
   ]
  },
  {
   "cell_type": "markdown",
   "metadata": {},
   "source": [
    "The following visualization shows how samples drawn from the z-domain get mapped to the y-domain."
   ]
  },
  {
   "cell_type": "code",
   "execution_count": null,
   "metadata": {},
   "outputs": [],
   "source": [
    "fig=vizualize_flow_from_z_domain(flow)"
   ]
  },
  {
   "cell_type": "markdown",
   "metadata": {},
   "source": [
    "## Normalizing Flow Network"
   ]
  },
  {
   "cell_type": "markdown",
   "metadata": {},
   "source": [
    "All the parameters $a,b,\\theta,\\alpha$ and $\\beta$ are obtained from the outputs of a artificial neural network with input $\\mathbf{x}$.\n",
    "The positivity of $a$ and $\\alpha$ is ensured by passing the raw output $\\tilde{a}$ and $\\tilde{\\alpha}$ through a softplus activation function.\n",
    "Constraining the Bernstein parameters $\\theta$ to monotone increasing order is.\n",
    "If $\\tilde\\vartheta_k$ is the $k$-th output of the parameter network for $f_2$, choosing $\\vartheta_k = \\vartheta_{k-1} + \\exp(\\tilde\\vartheta_k)$ for $k>0$, does the trick.\n",
    "The first output can stay unchanged and defines $\\vartheta_0=\\tilde\\vartheta_0$.\n",
    "\n",
    "![](../gfx/sick_architecture.svg)"
   ]
  },
  {
   "cell_type": "code",
   "execution_count": null,
   "metadata": {},
   "outputs": [],
   "source": [
    "# basis distribution\n",
    "base_dist = tfd.Normal(0, 1)  # The distribution of z"
   ]
  },
  {
   "cell_type": "markdown",
   "metadata": {},
   "source": [
    "### Model Definition"
   ]
  },
  {
   "cell_type": "code",
   "execution_count": null,
   "metadata": {},
   "outputs": [],
   "source": [
    "neurons = 32  # Neurons of the DNN hidden layers\n",
    "M = 9         # Order of Bernstin polynomial\n",
    "\n",
    "OutputLayer = partial(\n",
    "    tf.keras.layers.Dense,\n",
    "    activation=\"linear\",\n",
    "    use_bias=False,\n",
    "    # kernel_regularizer=tf.keras.regularizers.l2(0.0001)\n",
    ")\n",
    "\n",
    "inputs = tf.keras.layers.Input(shape=(1,))\n",
    "\n",
    "pvector = OutputLayer(\n",
    "    4+M,\n",
    "    name=\"pvector\"\n",
    ")(inputs)\n",
    "\n",
    "pvector_rshpd = Reshape((1, -1))(pvector)\n",
    "\n",
    "def bernstein_lambda(pvector):\n",
    "    return BernsteinFlow(\n",
    "        M\n",
    "    )(pvector)\n",
    "\n",
    "output = tfp.layers.DistributionLambda(bernstein_lambda)(\n",
    "    pvector_rshpd\n",
    ")\n",
    "\n",
    "flow_model = tf.keras.Model(\n",
    "    inputs=[inputs],\n",
    "    outputs=[output],\n",
    "    name='flow')\n",
    "flow_model.summary()"
   ]
  },
  {
   "cell_type": "code",
   "execution_count": null,
   "metadata": {},
   "outputs": [],
   "source": [
    "flow_model.compile(\n",
    "    optimizer=tf.optimizers.Adam(learning_rate=0.01),\n",
    "    loss=negloglik\n",
    ")"
   ]
  },
  {
   "cell_type": "markdown",
   "metadata": {
    "scrolled": true
   },
   "source": [
    "### Training"
   ]
  },
  {
   "cell_type": "code",
   "execution_count": null,
   "metadata": {
    "scrolled": true
   },
   "outputs": [],
   "source": [
    "flow_model.compile(\n",
    "    optimizer=tf.optimizers.Adam(learning_rate=0.01),\n",
    "    loss=negloglik\n",
    ")\n",
    "hist = flow_model.fit(\n",
    "    dataset,\n",
    "    epochs=3000,\n",
    "    verbose=False\n",
    ")"
   ]
  },
  {
   "cell_type": "code",
   "execution_count": null,
   "metadata": {},
   "outputs": [],
   "source": [
    "hist_df = pd.DataFrame(hist.history)\n",
    "hist_df.plot(), hist_df.loss.min()"
   ]
  },
  {
   "cell_type": "markdown",
   "metadata": {},
   "source": [
    "### Testing"
   ]
  },
  {
   "cell_type": "code",
   "execution_count": null,
   "metadata": {},
   "outputs": [],
   "source": [
    "x_test = np.ones((1, 1), dtype='float32')"
   ]
  },
  {
   "cell_type": "code",
   "execution_count": null,
   "metadata": {},
   "outputs": [],
   "source": [
    "flow = flow_model(x_test).distributions.model[0]\n",
    "yy = np.linspace(-0.5, 1.5, 1000, dtype=np.float32)\n",
    "plt.figure(figsize=(16, 8))\n",
    "sns.kdeplot(y)\n",
    "plot_flow(flow, yy[..., None])"
   ]
  },
  {
   "cell_type": "code",
   "execution_count": null,
   "metadata": {},
   "outputs": [],
   "source": [
    "fig=vizualize_flow_from_z_domain(flow)"
   ]
  },
  {
   "cell_type": "code",
   "execution_count": null,
   "metadata": {
    "scrolled": true
   },
   "outputs": [],
   "source": [
    "plot_chained_bijectors(flow)"
   ]
  },
  {
   "cell_type": "code",
   "execution_count": null,
   "metadata": {},
   "outputs": [],
   "source": [
    "b2 = flow.bijector.bijector.bijectors[0].shift\n",
    "a2 = flow.bijector.bijector.bijectors[1].scale\n",
    "theta = flow.bijector.bijector.bijectors[2].theta\n",
    "b1 = flow.bijector.bijector.bijectors[4].shift\n",
    "a1 = flow.bijector.bijector.bijectors[5].scale"
   ]
  },
  {
   "cell_type": "code",
   "execution_count": null,
   "metadata": {},
   "outputs": [],
   "source": [
    "print(f\"\"\"\n",
    "a1 = {repr(a1.numpy())}\n",
    "b1 = {repr(b1.numpy())}\n",
    "theta = {repr(theta.numpy())}\n",
    "a2 = {repr(a2.numpy())}\n",
    "b2 = {repr(b2.numpy())}\n",
    "\"\"\")"
   ]
  },
  {
   "cell_type": "markdown",
   "metadata": {},
   "source": [
    "## Bernstein Bijector as Loss"
   ]
  },
  {
   "cell_type": "markdown",
   "metadata": {},
   "source": [
    "The Bernstein bijector can also be used as a Keras loss function."
   ]
  },
  {
   "cell_type": "markdown",
   "metadata": {},
   "source": [
    "### Model Definition"
   ]
  },
  {
   "cell_type": "code",
   "execution_count": null,
   "metadata": {},
   "outputs": [],
   "source": [
    "neurons = 32  # Neurons of the DNN hidden layers\n",
    "M = 9         # Order of Bernstin polynomial\n",
    "\n",
    "\n",
    "OutputLayer = partial(\n",
    "    tf.keras.layers.Dense,\n",
    "    activation=\"linear\",\n",
    "    use_bias=False,\n",
    "    # kernel_regularizer=tf.keras.regularizers.l2(0.0001)\n",
    ")\n",
    "\n",
    "inputs = tf.keras.layers.Input(shape=(1,))\n",
    "\n",
    "pvector = OutputLayer(\n",
    "    4+M,\n",
    "    name=\"pvector\"\n",
    ")(inputs)\n",
    "\n",
    "out = Reshape((1, -1))(pvector)\n",
    "\n",
    "flow_parameter_model = tf.keras.Model(\n",
    "    inputs=[inputs],\n",
    "    outputs=[out],\n",
    "    name='bs_loss')\n",
    "flow_parameter_model.summary()"
   ]
  },
  {
   "cell_type": "code",
   "execution_count": null,
   "metadata": {},
   "outputs": [],
   "source": [
    "flow_parameter_model.compile(\n",
    "    optimizer=tf.optimizers.Adam(learning_rate=0.01),\n",
    "    loss=BernsteinFlowLoss(M)\n",
    ")"
   ]
  },
  {
   "cell_type": "markdown",
   "metadata": {},
   "source": [
    "### Training"
   ]
  },
  {
   "cell_type": "code",
   "execution_count": null,
   "metadata": {
    "scrolled": true
   },
   "outputs": [],
   "source": [
    "# Do inference.\n",
    "hist = flow_parameter_model.fit(\n",
    "    dataset,\n",
    "    epochs=3000,\n",
    "    verbose=False\n",
    ")"
   ]
  },
  {
   "cell_type": "code",
   "execution_count": null,
   "metadata": {},
   "outputs": [],
   "source": [
    "hist_df = pd.DataFrame(hist.history)\n",
    "hist_df.plot(), hist_df.loss.min()"
   ]
  },
  {
   "cell_type": "markdown",
   "metadata": {},
   "source": [
    "### Testing"
   ]
  },
  {
   "cell_type": "code",
   "execution_count": null,
   "metadata": {},
   "outputs": [],
   "source": [
    "x_test = np.ones((1, 1), dtype='float32')"
   ]
  },
  {
   "cell_type": "code",
   "execution_count": null,
   "metadata": {},
   "outputs": [],
   "source": [
    "pvs = flow_parameter_model(x_test)\n",
    "flow = BernsteinFlow(M)(pvs).distributions.model[0]"
   ]
  },
  {
   "cell_type": "code",
   "execution_count": null,
   "metadata": {},
   "outputs": [],
   "source": [
    "pvs.shape"
   ]
  },
  {
   "cell_type": "code",
   "execution_count": null,
   "metadata": {},
   "outputs": [],
   "source": [
    "yy = np.linspace(-0.5, 1.5, 1000, dtype=np.float32)\n",
    "plt.figure(figsize=(16, 8))\n",
    "sns.kdeplot(y)\n",
    "plot_flow(flow, yy[..., None])"
   ]
  },
  {
   "cell_type": "code",
   "execution_count": null,
   "metadata": {},
   "outputs": [],
   "source": [
    "fig=vizualize_flow_from_z_domain(flow)"
   ]
  },
  {
   "cell_type": "code",
   "execution_count": null,
   "metadata": {
    "scrolled": false
   },
   "outputs": [],
   "source": [
    "plot_chained_bijectors(flow)"
   ]
  },
  {
   "cell_type": "code",
   "execution_count": null,
   "metadata": {},
   "outputs": [],
   "source": [
    "b2 = flow.bijector.bijector.bijectors[0].shift.numpy().flatten()\n",
    "a2 = flow.bijector.bijector.bijectors[1].scale.numpy().flatten()\n",
    "theta = flow.bijector.bijector.bijectors[2].theta.numpy().flatten()\n",
    "b1 = flow.bijector.bijector.bijectors[4].shift.numpy().flatten()\n",
    "a1 = flow.bijector.bijector.bijectors[5].scale.numpy().flatten()"
   ]
  },
  {
   "cell_type": "code",
   "execution_count": null,
   "metadata": {},
   "outputs": [],
   "source": [
    "print(f\"\"\"\n",
    "a1 = {repr(a1)}\n",
    "b1 = {repr(b1)}\n",
    "theta = {repr(theta)}\n",
    "a2 = {repr(a2)}\n",
    "b2 = {repr(b2)}\n",
    "\"\"\")"
   ]
  },
  {
   "cell_type": "markdown",
   "metadata": {},
   "source": [
    "## Multivariable Example"
   ]
  },
  {
   "cell_type": "markdown",
   "metadata": {},
   "source": [
    "### Data"
   ]
  },
  {
   "cell_type": "markdown",
   "metadata": {},
   "source": [
    "### Generate Artificial Data\n",
    "\n",
    "def create_sine_data(n = 300):\n",
    "    x = np.linspace(0,1*2*np.pi,n)\n",
    "    y = np.sin(x)\n",
    "    #y+=np.random.normal(0,0.2*np.abs(y),n)\n",
    "    return y\n",
    "\n",
    "def gen_data(n=20, observations=100):\n",
    "    y=create_sine_data(n)\n",
    "\n",
    "    dat1=np.repeat([y],observations,axis=0)\n",
    "    dat1+=np.random.normal(0,0.1*np.abs(y),dat1.shape)\n",
    "\n",
    "    dat2=np.repeat([-y],observations,axis=0)\n",
    "    dat2+=np.random.normal(0,0.1*np.abs(y),dat1.shape)\n",
    "\n",
    "    idx = np.arange(n*observations)\n",
    "    np.random.shuffle(idx)\n",
    "    a,b=np.split(idx,2)\n",
    "    dat3=np.repeat([y],observations,axis=0).flatten()\n",
    "    dat3[a]=-dat3[a]\n",
    "    dat3 = dat3.reshape(dat1.shape)\n",
    "    dat3+=np.random.normal(0,0.1*np.abs(y),dat1.shape)\n",
    "\n",
    "    x=(np.repeat(np.arange(3),observations)/2)[...,np.newaxis]\n",
    "    y=np.concatenate([dat1,dat2,dat3])\n",
    "\n",
    "    return x, y\n",
    "\n",
    "n = 20\n",
    "batch_size=32\n",
    "observations=batch_size*10\n",
    "x,y = gen_data(n=n, observations=observations)\n",
    "x.shape,y.shape\n",
    "\n",
    "sc = MinMaxScaler((0,1))\n",
    "y=sc.fit_transform(y.T).T\n",
    "\n",
    "colors='rgb'\n",
    "xx = np.arange(20)\n",
    "for i,t in enumerate(x*2):\n",
    "    plt.scatter(x=xx+t*0.33,y=y[i], alpha=0.1, color=colors[int(t)])"
   ]
  },
  {
   "cell_type": "markdown",
   "metadata": {},
   "source": [
    "### TensorFlow Dataset API"
   ]
  },
  {
   "cell_type": "code",
   "execution_count": null,
   "metadata": {},
   "outputs": [],
   "source": [
    "multi_dataset = tf.data.Dataset.from_tensor_slices((x,y))\n",
    "#dataset = dataset.repeat()\n",
    "multi_dataset = multi_dataset.shuffle(buffer_size=observations*3)\n",
    "multi_dataset = multi_dataset.batch(batch_size)\n",
    "multi_dataset = multi_dataset.prefetch(1)\n",
    "multi_dataset"
   ]
  },
  {
   "cell_type": "code",
   "execution_count": null,
   "metadata": {},
   "outputs": [],
   "source": [
    "sample = next(multi_dataset.as_numpy_iterator())\n",
    "colors='rgb'\n",
    "xx = np.arange(20)\n",
    "for i,t in enumerate(sample[0]*2):\n",
    "    plt.scatter(x=xx+t*0.33,y=sample[1][i], color=colors[int(t)])"
   ]
  },
  {
   "cell_type": "markdown",
   "metadata": {},
   "source": [
    "### Model Definition"
   ]
  },
  {
   "cell_type": "code",
   "execution_count": null,
   "metadata": {},
   "outputs": [],
   "source": [
    "# Build model.\n",
    "neurons = 64   # Neurons of the DNN hidden layers\n",
    "M = 20         # Berstein order\n",
    "num_dists = 20 # number of distributions to predict\n",
    "\n",
    "from functools import partial\n",
    "\n",
    "OutputLayer = partial(\n",
    "    tf.keras.layers.Dense,\n",
    "    activation=\"linear\",\n",
    "    use_bias=False,\n",
    "   # kernel_regularizer=tf.keras.regularizers.l2(0.0001)\n",
    ")\n",
    "\n",
    "HiddenLayer = partial(\n",
    "    tf.keras.layers.Dense,\n",
    "    activation=\"elu\",\n",
    "    kernel_initializer=\"he_normal\",\n",
    "    kernel_regularizer=tf.keras.regularizers.l2(0.0001)\n",
    ")\n",
    "\n",
    "inputs = tf.keras.layers.Input(shape=(1,))\n",
    "\n",
    "h1 = HiddenLayer(neurons)(inputs)\n",
    "h2 = HiddenLayer(neurons)(h1)\n",
    "\n",
    "out = OutputLayer(\n",
    "    num_dists * (4+M),\n",
    "    name=\"bs_mv_loss_out\"\n",
    ")(h2)\n",
    "\n",
    "reshaped = tf.keras.layers.Reshape((num_dists,4+M), name=\"bs_mv_loss_rshpd\")(out)\n",
    "\n",
    "multi_flow_parameter_model = tf.keras.Model(\n",
    "    inputs=[inputs],\n",
    "    outputs=[reshaped],\n",
    "    name ='bs_mv_loss')\n",
    "multi_flow_parameter_model.summary()"
   ]
  },
  {
   "cell_type": "code",
   "execution_count": null,
   "metadata": {},
   "outputs": [],
   "source": [
    "multi_flow_parameter_model.compile(\n",
    "    optimizer=tf.optimizers.Adam(learning_rate=0.0001),\n",
    "    loss=BernsteinFlowLoss(M)\n",
    ")"
   ]
  },
  {
   "cell_type": "markdown",
   "metadata": {},
   "source": [
    "### Training"
   ]
  },
  {
   "cell_type": "code",
   "execution_count": null,
   "metadata": {
    "scrolled": true
   },
   "outputs": [],
   "source": [
    "hist = multi_flow_parameter_model.fit(\n",
    "    multi_dataset,\n",
    "    epochs=1500,\n",
    "    verbose=False\n",
    ")"
   ]
  },
  {
   "cell_type": "code",
   "execution_count": null,
   "metadata": {},
   "outputs": [],
   "source": [
    "hist_df = pd.DataFrame(hist.history)\n",
    "hist_df.plot(), hist_df.loss.min()"
   ]
  },
  {
   "cell_type": "markdown",
   "metadata": {},
   "source": [
    "### Testing"
   ]
  },
  {
   "cell_type": "code",
   "execution_count": null,
   "metadata": {},
   "outputs": [],
   "source": [
    "x_test = np.ones((1, 1), dtype='float32')\n",
    "x_test"
   ]
  },
  {
   "cell_type": "code",
   "execution_count": null,
   "metadata": {},
   "outputs": [],
   "source": [
    "pvs = multi_flow_parameter_model(x_test)\n",
    "flows = BernsteinFlow(M)(pvs).distributions.model"
   ]
  },
  {
   "cell_type": "code",
   "execution_count": null,
   "metadata": {},
   "outputs": [],
   "source": [
    "yy = np.linspace(-0.5, 1.5, 1000, dtype=np.float32)\n",
    "plt.figure(figsize=(16, 8))\n",
    "#sns.kdeplot(y)\n",
    "plot_flow(flows[5], yy[..., None])"
   ]
  },
  {
   "cell_type": "code",
   "execution_count": null,
   "metadata": {
    "scrolled": false
   },
   "outputs": [],
   "source": [
    "x=1\n",
    "yhats = {\n",
    "    f\"gmm $x={x}, t={t}$\": m\n",
    "    for t,m in enumerate(flows)\n",
    "}\n",
    "\n",
    "yy = tf.cast(tf.linspace(y.min()-.1, y.max() + .1, int(200)), tf.float32)\n",
    "yy = yy[...,tf.newaxis]\n",
    "\n",
    "fig,axs=plt.subplots(len(yhats),figsize=(16,20*2))\n",
    "for (i,(name,yhat)),ax in zip(enumerate(yhats.items()),list(axs)):\n",
    "    plot_flow(yhat,yy,ax=ax)"
   ]
  },
  {
   "cell_type": "markdown",
   "metadata": {},
   "source": [
    "### Generate Data"
   ]
  },
  {
   "cell_type": "code",
   "execution_count": null,
   "metadata": {
    "scrolled": false
   },
   "outputs": [],
   "source": [
    "colors='rgb'\n",
    "no_samples=100\n",
    "xx = np.arange(20)\n",
    "xx = np.repeat([[xx]],no_samples,axis=1)\n",
    "for i,t in enumerate(range(3)):\n",
    "    yhat = multi_flow_parameter_model(x_test)\n",
    "    flows = BernsteinFlow(M)(yhat)\n",
    "    sample = flows.sample(no_samples)\n",
    "    plt.scatter(x=xx,y=sample, color=colors[t],alpha=0.1)"
   ]
  },
  {
   "cell_type": "markdown",
   "metadata": {},
   "source": [
    "# References\n",
    "\n",
    "[<a id=\"cit-tabak-FamilyNonparametricDensity-2013\" href=\"#call-tabak-FamilyNonparametricDensity-2013\">1</a>] Tabak E. G. and Turner Cristina V., ``_A Family of Nonparametric Density Estimation Algorithms_'', , vol. 66, number 2, pp. 145--164,  2013.  [online](https://onlinelibrary.wiley.com/doi/abs/10.1002/cpa.21423)\n",
    "\n",
    "[<a id=\"cit-papamakarios-NormalizingFlowsProbabilistic-2019\" href=\"#call-papamakarios-NormalizingFlowsProbabilistic-2019\">2</a>] Papamakarios George, Nalisnick Eric, Rezende Danilo Jimenez <em>et al.</em>, ``_Normalizing Flows for Probabilistic Modeling and Inference_'', , vol. , number , pp. ,  2019.  [online](http://arxiv.org/abs/1912.02762)\n",
    "\n",
    "[<a id=\"cit-hothorn-MostLikelyTransformations-2018\" href=\"#call-hothorn-MostLikelyTransformations-2018\">3</a>] Hothorn Torsten, Möst Lisa and Bühlmann Peter, ``_Most Likely Transformations_'', , vol. 45, number 1, pp. 110--134,  2018.  [online](https://onlinelibrary.wiley.com/doi/abs/10.1111/sjos.12291)\n",
    "\n",
    "[<a id=\"cit-sick-DeepTransformationModels-2020\" href=\"#call-sick-DeepTransformationModels-2020\">4</a>] Sick Beate, Hothorn Torsten and Dürr Oliver, ``_Deep transformation models: Tackling complex regression problems with neural network based transformation models_'', , vol. , number , pp. ,  2020.  [online](http://arxiv.org/abs/2004.00464)\n",
    "\n",
    "[<a id=\"cit-azzalini-LookDataOld-1990\" href=\"#call-azzalini-LookDataOld-1990\">5</a>] Azzalini A. and Bowman A. W., ``_A Look at Some Data on the Old Faithful Geyser_'', , vol. 39, number 3, pp. 357--365,  1990.\n",
    "\n",
    "[<a id=\"cit-farouki-BernsteinPolynomialBasis-2012\" href=\"#call-farouki-BernsteinPolynomialBasis-2012\">6</a>] Farouki Rida T., ``_The Bernstein polynomial basis: A centennial retrospective_'', , vol. 29, number 6, pp. 379--419,  2012.  [online](https://doi.org/10.1016/j.cagd.2012.03.001)\n",
    "\n",
    "[<a id=\"cit-kingma-ImprovingVariationalInference-2017\" href=\"#call-kingma-ImprovingVariationalInference-2017\">7</a>] Kingma Diederik P., Salimans Tim, Jozefowicz Rafal <em>et al.</em>, ``_Improving Variational Inference with Inverse Autoregressive Flow_'', , vol. , number , pp. ,  2017.  [online](http://arxiv.org/abs/1606.04934)\n",
    "\n",
    "[<a id=\"cit-rezende-VariationalInferenceNormalizing-2016\" href=\"#call-rezende-VariationalInferenceNormalizing-2016\">8</a>] Rezende Danilo Jimenez and Mohamed Shakir, ``_Variational Inference with Normalizing Flows_'', , vol. , number , pp. ,  2016.  [online](http://arxiv.org/abs/1505.05770)\n",
    "\n",
    "[<a id=\"cit-kingma-GlowGenerativeFlow-2018\" href=\"#call-kingma-GlowGenerativeFlow-2018\">9</a>] Kingma Diederik P. and Dhariwal Prafulla, ``_Glow: Generative Flow with Invertible 1x1 Convolutions_'', , vol. , number , pp. ,  2018.  [online](http://arxiv.org/abs/1807.03039)\n",
    "\n",
    "[<a id=\"cit-dinh-DensityEstimationUsing-2017\" href=\"#call-dinh-DensityEstimationUsing-2017\">10</a>] Dinh Laurent, Sohl-Dickstein Jascha and Bengio Samy, ``_Density estimation using Real NVP_'', , vol. , number , pp. ,  2017.  [online](http://arxiv.org/abs/1605.08803)\n",
    "\n",
    "[<a id=\"cit-oord-ParallelWaveNetFast-2017\" href=\"#call-oord-ParallelWaveNetFast-2017\">11</a>] van den Oord Aaron, Li Yazhe, Babuschkin Igor <em>et al.</em>, ``_Parallel WaveNet: Fast High-Fidelity Speech Synthesis_'', , vol. , number , pp. ,  2017.  [online](http://arxiv.org/abs/1711.10433)\n",
    "\n",
    "[<a id=\"cit-oord-WaveNetGenerativeModel-2016\" href=\"#call-oord-WaveNetGenerativeModel-2016\">12</a>] van den Oord Aaron, Dieleman Sander, Zen Heiga <em>et al.</em>, ``_WaveNet: A Generative Model for Raw Audio_'', , vol. , number , pp. ,  2016.  [online](http://arxiv.org/abs/1609.03499)\n",
    "\n",
    "[<a id=\"cit-sohn-LearningStructuredOutput-2015\" href=\"#call-sohn-LearningStructuredOutput-2015\">13</a>] K. Sohn, H. Lee and X. Yan, ``_Learning structured output representation using deep conditional generative models_'', Advances in neural information processing systems 28,  2015.  [online](http://papers.nips.cc/paper/5775-learning-structured-output-representation-using-deep-conditional-generative-models.pdf)\n",
    "\n",
    "[<a id=\"cit-mirza-ConditionalGenerativeAdversarial-2014\" href=\"#call-mirza-ConditionalGenerativeAdversarial-2014\">14</a>] Mirza Mehdi and Osindero Simon, ``_Conditional Generative Adversarial Nets_'', , vol. , number , pp. ,  2014.  [online](http://arxiv.org/abs/1411.1784)\n",
    "\n",
    "[<a id=\"cit-rothfuss-NoiseRegularizationConditional-2020\" href=\"#call-rothfuss-NoiseRegularizationConditional-2020\">15</a>] Rothfuss Jonas, Ferreira Fabio, Boehm Simon <em>et al.</em>, ``_Noise Regularization for Conditional Density Estimation_'', , vol. , number , pp. ,  2020.  [online](http://arxiv.org/abs/1907.08982)\n",
    "\n",
    "[<a id=\"cit-rasul-MultivariateProbabilisticTime-2020\" href=\"#call-rasul-MultivariateProbabilisticTime-2020\">16</a>] Rasul Kashif, Sheikh Abdul-Saboor, Schuster Ingmar <em>et al.</em>, ``_Multi-variate Probabilistic Time Series Forecasting via Conditioned Normalizing Flows_'', , vol. , number , pp. ,  2020.  [online](http://arxiv.org/abs/2002.06103)\n",
    "\n",
    "[<a id=\"cit-trippe-ConditionalDensityEstimation-2018\" href=\"#call-trippe-ConditionalDensityEstimation-2018\">17</a>] Trippe Brian L. and Turner Richard E., ``_Conditional Density Estimation with Bayesian Normalising Flows_'', , vol. , number , pp. ,  2018.  [online](http://arxiv.org/abs/1802.04908)\n",
    "\n",
    "[<a id=\"cit-weng-FlowbasedDeepGenerative-2018\" href=\"#call-weng-FlowbasedDeepGenerative-2018\">18</a>] Weng Lilian, ``_Flow-based deep generative models_'', , vol. , number , pp. ,  2018.  [online](http://lilianweng.github.io/lil-log/2018/10/13/flow-based-deep-generative-models.html)\n",
    "\n"
   ]
  }
 ],
 "metadata": {
  "accelerator": "GPU",
  "cite2c": {
   "citations": {
    "7364384/8XZZR6RX": {
     "DOI": "10.2307/2347385",
     "URL": "https://www.jstor.org/stable/2347385",
     "abstract": "An analysis of data on the duration times and waiting times for eruptions from the Old Faithful Geyser reveals an interesting time series structure. A tentative physical model, derived from Rinehart, is outlined and a corresponding first-order Markov chain examined. It is shown that a second-order models is necessary to explain the observed correlations in the data. A curious clustering effect is apparent in the autocorrelation function when plotted over a large range of lags. Similar patterns are observed in simulations from the fitted second-order model.",
     "accessed": {
      "day": 21,
      "month": 7,
      "year": 2020
     },
     "archive": "JSTOR",
     "author": [
      {
       "family": "Azzalini",
       "given": "A."
      },
      {
       "family": "Bowman",
       "given": "A. W."
      }
     ],
     "container-title": "Journal of the Royal Statistical Society. Series C (Applied Statistics)",
     "id": "7364384/8XZZR6RX",
     "issue": "3",
     "issued": {
      "year": 1990
     },
     "note": "Publisher: [Wiley, Royal Statistical Society]",
     "page": "357-365",
     "page-first": "357",
     "title": "A Look at Some Data on the Old Faithful Geyser",
     "type": "article-journal",
     "volume": "39"
    }
   }
  },
  "colab": {
   "collapsed_sections": [],
   "name": "Bernstein_Loss.ipynb",
   "provenance": [],
   "toc_visible": true
  },
  "kernelspec": {
   "display_name": "Python 3",
   "language": "python",
   "name": "python3"
  },
  "language_info": {
   "codemirror_mode": {
    "name": "ipython",
    "version": 3
   },
   "file_extension": ".py",
   "mimetype": "text/x-python",
   "name": "python",
   "nbconvert_exporter": "python",
   "pygments_lexer": "ipython3",
   "version": "3.7.9"
  },
  "latex_envs": {
   "LaTeX_envs_menu_present": false,
   "autoclose": false,
   "autocomplete": true,
   "bibliofile": "biblio.bib",
   "cite_by": "number",
   "current_citInitial": 1,
   "eqLabelWithNumbers": false,
   "eqNumInitial": 1,
   "hotkeys": {
    "equation": "Ctrl-E",
    "itemize": "Ctrl-I"
   },
   "labels_anchors": true,
   "latex_user_defs": false,
   "report_style_numbering": false,
   "user_envs_cfg": false
  },
  "toc": {
   "base_numbering": 1,
   "nav_menu": {},
   "number_sections": true,
   "sideBar": true,
   "skip_h1_title": true,
   "title_cell": "Table of Contents",
   "title_sidebar": "Contents",
   "toc_cell": true,
   "toc_position": {},
   "toc_section_display": true,
   "toc_window_display": true
  },
  "varInspector": {
   "cols": {
    "lenName": 16,
    "lenType": 16,
    "lenVar": 40
   },
   "kernels_config": {
    "python": {
     "delete_cmd_postfix": "",
     "delete_cmd_prefix": "del ",
     "library": "var_list.py",
     "varRefreshCmd": "print(var_dic_list())"
    },
    "r": {
     "delete_cmd_postfix": ") ",
     "delete_cmd_prefix": "rm(",
     "library": "var_list.r",
     "varRefreshCmd": "cat(var_dic_list()) "
    }
   },
   "position": {
    "height": "864.85px",
    "left": "1615px",
    "right": "20px",
    "top": "120px",
    "width": "283.667px"
   },
   "types_to_exclude": [
    "module",
    "function",
    "builtin_function_or_method",
    "instance",
    "_Feature"
   ],
   "window_display": false
  }
 },
 "nbformat": 4,
 "nbformat_minor": 1
}
