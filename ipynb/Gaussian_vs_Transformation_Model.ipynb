{
 "cells": [
  {
   "cell_type": "markdown",
   "metadata": {},
   "source": [
    "**Copyright 2020 Marcel Arpogaus**\n",
    "\n",
    "    Licensed under the Apache License, Version 2.0 (the \"License\");\n",
    "    you may not use this file except in compliance with the License.\n",
    "    You may obtain a copy of the License at\n",
    " \n",
    "        http://www.apache.org/licenses/LICENSE-2.0\n",
    " \n",
    "    Unless required by applicable law or agreed to in writing, software\n",
    "    distributed under the License is distributed on an \"AS IS\" BASIS,\n",
    "    WITHOUT WARRANTIES OR CONDITIONS OF ANY KIND, either express or implied.\n",
    "    See the License for the specific language governing permissions and\n",
    "    limitations under the License."
   ]
  },
  {
   "cell_type": "markdown",
   "metadata": {
    "colab_type": "text",
    "id": "c9cFDRkJIKlZ"
   },
   "source": [
    "# Introduction"
   ]
  },
  {
   "cell_type": "markdown",
   "metadata": {},
   "source": [
    "## Motivation: Need for Complex Distributions\n",
    "\n",
    "The shape of the data distribution in many real applications are very complex.\n",
    "Transformation models are an easy way to replace simple Distributions (like a Gaussian) with more expressive ones.\n",
    "\n",
    "| Gaussian                                                     | Transformation Model                       |\n",
    "|:-------------------------------------------------------------|:-------------------------------------------|\n",
    "| ![gauss](gfx/gauss.png)                                      | ![flow](gfx/flow.png)                      |"
   ]
  },
  {
   "cell_type": "markdown",
   "metadata": {},
   "source": [
    "## Purpose of this Notebook\n",
    "\n",
    "You will learn how to fit a ANN to simple (unconditional) bimodal data using a Transformed Distribution.\n",
    "\n",
    "We wont cover any of the theoretical fundamentals here.\n",
    "A basic introduction can be found in [this Notebook](TheoreticalBackground.ipynb), for additional information references to the primary sources are provided.\n",
    "\n",
    "If you have any technical issues or suggestion regarding my implementation, please feel free to either [contact me](mailto:marcel.arpogaus@gmail.com), [open an issue](https://github.com/MArpogaus/TensorFlow-Probability-Bernstein-Polynomial-Bijector/issues/new) or send me a [Pull Request](https://github.com/MArpogaus/TensorFlow-Probability-Bernstein-Polynomial-Bijector#contributing).\n",
    "\n",
    "Any contributions are **greatly appreciated**."
   ]
  },
  {
   "cell_type": "markdown",
   "metadata": {},
   "source": [
    "<table class=\"tfo-notebook-buttons\" align=\"left\">\n",
    "  <td>\n",
    "    <a target=\"_blank\" href=\"https://colab.research.google.com/github/MArpogaus/TensorFlow-Probability-Bernstein-Polynomial-Bijector/blob/master/ipynb/Gaussian_vs_Transformation_Model.ipynb\"><img src=\"https://www.tensorflow.org/images/colab_logo_32px.png\" />Run in Google Colab</a>\n",
    "  </td>\n",
    "  <td>\n",
    "    <a target=\"_blank\" href=\"https://github.com/MArpogaus/TensorFlow-Probability-Bernstein-Polynomial-Bijector/blob/master/ipynb/Gaussian_vs_Transformation_Model.ipynb\"><img src=\"https://www.tensorflow.org/images/GitHub-Mark-32px.png\" />View source on GitHub</a>\n",
    "  </td>\n",
    "  <td>\n",
    "    <a href=\"https://raw.githubusercontent.com/MArpogaus/TensorFlow-Probability-Bernstein-Polynomial-Bijector/blob/master/ipynb/Gaussian_vs_Transformation_Model.ipynb\"><img src=\"https://www.tensorflow.org/images/download_logo_32px.png\" />Download notebook</a>\n",
    "  </td>\n",
    "</table>"
   ]
  },
  {
   "cell_type": "markdown",
   "metadata": {
    "toc": true
   },
   "source": [
    "<h1>Table of Contents<span class=\"tocSkip\"></span></h1>\n",
    "<div class=\"toc\"><ul class=\"toc-item\"><li><span><a href=\"#Motivation:-Need-for-Complex-Distributions\" data-toc-modified-id=\"Motivation:-Need-for-Complex-Distributions-1\"><span class=\"toc-item-num\">1&nbsp;&nbsp;</span>Motivation: Need for Complex Distributions</a></span></li><li><span><a href=\"#Purpose-of-this-Notebook\" data-toc-modified-id=\"Purpose-of-this-Notebook-2\"><span class=\"toc-item-num\">2&nbsp;&nbsp;</span>Purpose of this Notebook</a></span></li><li><span><a href=\"#Dependencies-&amp;-Prerequisites\" data-toc-modified-id=\"Dependencies-&amp;-Prerequisites-3\"><span class=\"toc-item-num\">3&nbsp;&nbsp;</span>Dependencies &amp; Prerequisites</a></span><ul class=\"toc-item\"><li><span><a href=\"#Install-Dependencies\" data-toc-modified-id=\"Install-Dependencies-3.1\"><span class=\"toc-item-num\">3.1&nbsp;&nbsp;</span>Install Dependencies</a></span></li><li><span><a href=\"#Import-Libaries\" data-toc-modified-id=\"Import-Libaries-3.2\"><span class=\"toc-item-num\">3.2&nbsp;&nbsp;</span>Import Libaries</a></span></li><li><span><a href=\"#Ensure-Reproducibility\" data-toc-modified-id=\"Ensure-Reproducibility-3.3\"><span class=\"toc-item-num\">3.3&nbsp;&nbsp;</span>Ensure Reproducibility</a></span></li></ul></li><li><span><a href=\"#Function-Definitions\" data-toc-modified-id=\"Function-Definitions-4\"><span class=\"toc-item-num\">4&nbsp;&nbsp;</span>Function Definitions</a></span></li><li><span><a href=\"#Data\" data-toc-modified-id=\"Data-5\"><span class=\"toc-item-num\">5&nbsp;&nbsp;</span>Data</a></span><ul class=\"toc-item\"><li><span><a href=\"#TensorFlow-Dataset-API\" data-toc-modified-id=\"TensorFlow-Dataset-API-5.1\"><span class=\"toc-item-num\">5.1&nbsp;&nbsp;</span>TensorFlow Dataset API</a></span></li></ul></li><li><span><a href=\"#Fitting-a-Gaussian-to-the-data\" data-toc-modified-id=\"Fitting-a-Gaussian-to-the-data-6\"><span class=\"toc-item-num\">6&nbsp;&nbsp;</span>Fitting a Gaussian to the data</a></span><ul class=\"toc-item\"><li><span><a href=\"#Output-Distribution\" data-toc-modified-id=\"Output-Distribution-6.1\"><span class=\"toc-item-num\">6.1&nbsp;&nbsp;</span>Output Distribution</a></span></li><li><span><a href=\"#Model-Definition\" data-toc-modified-id=\"Model-Definition-6.2\"><span class=\"toc-item-num\">6.2&nbsp;&nbsp;</span>Model Definition</a></span></li><li><span><a href=\"#Training\" data-toc-modified-id=\"Training-6.3\"><span class=\"toc-item-num\">6.3&nbsp;&nbsp;</span>Training</a></span></li><li><span><a href=\"#Result\" data-toc-modified-id=\"Result-6.4\"><span class=\"toc-item-num\">6.4&nbsp;&nbsp;</span>Result</a></span></li><li><span><a href=\"#Sample\" data-toc-modified-id=\"Sample-6.5\"><span class=\"toc-item-num\">6.5&nbsp;&nbsp;</span>Sample</a></span></li></ul></li><li><span><a href=\"#Fitting-the-Normalizing-Flow-to-the-data\" data-toc-modified-id=\"Fitting-the-Normalizing-Flow-to-the-data-7\"><span class=\"toc-item-num\">7&nbsp;&nbsp;</span>Fitting the Normalizing Flow to the data</a></span><ul class=\"toc-item\"><li><span><a href=\"#Probability-Model\" data-toc-modified-id=\"Probability-Model-7.1\"><span class=\"toc-item-num\">7.1&nbsp;&nbsp;</span>Probability Model</a></span></li><li><span><a href=\"#Model-Definition\" data-toc-modified-id=\"Model-Definition-7.2\"><span class=\"toc-item-num\">7.2&nbsp;&nbsp;</span>Model Definition</a></span></li><li><span><a href=\"#Training\" data-toc-modified-id=\"Training-7.3\"><span class=\"toc-item-num\">7.3&nbsp;&nbsp;</span>Training</a></span></li><li><span><a href=\"#Result\" data-toc-modified-id=\"Result-7.4\"><span class=\"toc-item-num\">7.4&nbsp;&nbsp;</span>Result</a></span></li><li><span><a href=\"#Sample\" data-toc-modified-id=\"Sample-7.5\"><span class=\"toc-item-num\">7.5&nbsp;&nbsp;</span>Sample</a></span></li></ul></li></ul></div>"
   ]
  },
  {
   "cell_type": "markdown",
   "metadata": {},
   "source": [
    "##  Dependencies & Prerequisites"
   ]
  },
  {
   "cell_type": "markdown",
   "metadata": {},
   "source": [
    "### Install Dependencies"
   ]
  },
  {
   "cell_type": "code",
   "execution_count": 1,
   "metadata": {},
   "outputs": [
    {
     "name": "stdout",
     "output_type": "stream",
     "text": [
      "Not running in Colab\n"
     ]
    }
   ],
   "source": [
    "try:\n",
    "    from google.colab import drive\n",
    "    !pip install git+https://github.com/MArpogaus/TensorFlow-Probability-Bernstein-Polynomial-Bijector.git\n",
    "except:\n",
    "    print('Not running in Colab')"
   ]
  },
  {
   "cell_type": "markdown",
   "metadata": {},
   "source": [
    "### Import Libaries"
   ]
  },
  {
   "cell_type": "code",
   "execution_count": 2,
   "metadata": {
    "colab": {
     "base_uri": "https://localhost:8080/",
     "height": 98
    },
    "colab_type": "code",
    "hide_input": false,
    "id": "2HAB5EyxQ3jR",
    "outputId": "99bb56ca-2702-41ea-dc66-969dd7e16903"
   },
   "outputs": [],
   "source": [
    "import pandas as pd\n",
    "import numpy as np"
   ]
  },
  {
   "cell_type": "code",
   "execution_count": 3,
   "metadata": {
    "colab": {
     "base_uri": "https://localhost:8080/",
     "height": 98
    },
    "colab_type": "code",
    "hide_input": false,
    "id": "2HAB5EyxQ3jR",
    "outputId": "99bb56ca-2702-41ea-dc66-969dd7e16903"
   },
   "outputs": [],
   "source": [
    "import matplotlib.pyplot as plt\n",
    "import seaborn as sns\n",
    "sns.set(style=\"ticks\", context=\"paper\")  # improved plt styles"
   ]
  },
  {
   "cell_type": "code",
   "execution_count": 4,
   "metadata": {
    "colab": {
     "base_uri": "https://localhost:8080/",
     "height": 491
    },
    "colab_type": "code",
    "id": "BgnJJoBIRE12",
    "outputId": "4010cd70-f893-411b-f864-76ae14e991ab"
   },
   "outputs": [],
   "source": [
    "import tensorflow as tf\n",
    "import tensorflow_probability as tfp\n",
    "\n",
    "from tensorflow_probability import distributions as tfd\n",
    "\n",
    "from tensorflow.keras import Model\n",
    "from tensorflow.keras.layers import Dense, InputLayer\n",
    "from tensorflow.keras.optimizers import Adam"
   ]
  },
  {
   "cell_type": "markdown",
   "metadata": {},
   "source": [
    "Import The transformed distribution:"
   ]
  },
  {
   "cell_type": "code",
   "execution_count": 5,
   "metadata": {},
   "outputs": [],
   "source": [
    "from bernstein_flow.distributions import BernsteinFlow"
   ]
  },
  {
   "cell_type": "markdown",
   "metadata": {},
   "source": [
    "### Ensure Reproducibility"
   ]
  },
  {
   "cell_type": "code",
   "execution_count": 6,
   "metadata": {},
   "outputs": [
    {
     "name": "stdout",
     "output_type": "stream",
     "text": [
      "TFP Version 0.11.1\n",
      "TF  Version 2.3.0\n"
     ]
    }
   ],
   "source": [
    "np.random.seed(2)\n",
    "tf.random.set_seed(2)\n",
    "print(\"TFP Version\", tfp.__version__)\n",
    "print(\"TF  Version\", tf.__version__)"
   ]
  },
  {
   "cell_type": "markdown",
   "metadata": {},
   "source": [
    "## Function Definitions"
   ]
  },
  {
   "cell_type": "markdown",
   "metadata": {},
   "source": [
    "We want to minimize the negative log-likelihood:"
   ]
  },
  {
   "cell_type": "code",
   "execution_count": 7,
   "metadata": {},
   "outputs": [],
   "source": [
    "def negloglik(y_true, y_hat):\n",
    "    nll = -y_hat.log_prob(y_true)\n",
    "    return nll"
   ]
  },
  {
   "cell_type": "markdown",
   "metadata": {},
   "source": [
    "## Data"
   ]
  },
  {
   "cell_type": "markdown",
   "metadata": {},
   "source": [
    "Classic dataset containing the waiting time between eruptions and the duration of the eruption for the [Old Faithful Geyser](https://en.wikipedia.org/wiki/Old_Faithful) in [Yellowstone National Park](https://en.wikipedia.org/wiki/Yellowstone_National_Park).\n",
    "\n",
    "Extracted from the [built-in dataset in R](https://stat.ethz.ch/R-manual/R-devel/library/datasets/html/faithful.html).\n",
    "\n",
    "Reference:  A. Azzalini and A. W. Bowman, “A Look at Some Data on the Old Faithful Geyser,” Journal of the Royal Statistical Society. Series C (Applied Statistics), vol. 39, no. 3, pp. 357–365, 1990, doi: 10.2307/2347385."
   ]
  },
  {
   "cell_type": "code",
   "execution_count": 8,
   "metadata": {},
   "outputs": [],
   "source": [
    "y = np.asarray(\n",
    "    (0.6694, 0.3583, 0.6667, 0.6667, 0.6667, 0.3333, 0.7306, 0.7139, 0.3389, 0.8056, 0.3056, 0.9083, 0.2694, 0.8111,\n",
    "     0.7306, 0.2944, 0.7778, 0.3333, 0.7889, 0.7028, 0.3167, 0.8278, 0.3333, 0.6667, 0.3333, 0.6667, 0.4722, 0.75,\n",
    "     0.6778, 0.6194, 0.5861, 0.7444, 0.3694, 0.8139, 0.4333, 0.6917, 0.3667, 0.7944, 0.3056, 0.7667, 0.3778, 0.6889,\n",
    "     0.3333, 0.6667, 0.3333, 0.6667, 0.3139, 0.7111, 0.3472, 0.7444, 0.4167, 0.6667, 0.2944, 0.7222, 0.3639, 0.7472,\n",
    "     0.6472, 0.5556, 0.6222, 0.6667, 0.325, 0.8778, 0.3333, 0.6667, 0.3333, 0.6667, 0.3333, 0.6667, 0.5889, 0.3611, 0.75,\n",
    "     0.3361, 0.6917, 0.7, 0.7222, 0.3222, 0.775, 0.6361, 0.6722, 0.6944, 0.7778, 0.3028, 0.6667, 0.5, 0.6667, 0.3333, 0.7417,\n",
    "     0.3417, 0.7083, 0.3194, 0.7778, 0.2889, 0.7306, 0.2944, 0.7667, 0.3111, 0.7417, 0.2722, 0.8389, 0.3028, 0.85, 0.2722, 0.7139,\n",
    "     0.3333, 0.6667, 0.3333, 0.7556, 0.3333, 0.6667, 0.4889, 0.7889, 0.65, 0.325, 0.6861, 0.3, 0.7778, 0.3056, 0.7833, 0.3528, 0.7972,\n",
    "     0.3028, 0.6833, 0.775, 0.6667, 0.3333, 0.6667, 0.6667, 0.7028, 0.6889, 0.6556, 0.625, 0.7361, 0.4111, 0.6944, 0.6333, 0.7194,\n",
    "     0.6444, 0.7806, 0.2833, 0.8278, 0.7111, 0.7639, 0.6667, 0.6667, 0.6667, 0.6667, 0.3306, 0.7667, 0.1389, 0.8194, 0.2889, 0.7639,\n",
    "     0.2833, 0.7917, 0.3056, 0.75, 0.3111, 0.7417, 0.7417, 0.6667, 0.8, 0.6667, 0.6667, 0.3333, 0.6667, 0.3222, 0.7639, 0.3333, 0.6167,\n",
    "     0.4778, 0.8056, 0.575, 0.7306, 0.3, 0.7333, 0.4139, 0.7528, 0.35, 0.725, 0.7278, 0.2972, 0.8194, 0.3028, 0.6667, 0.6667, 0.6667, 0.6444,\n",
    "     0.3083, 0.7833, 0.3361, 0.7444, 0.3111, 0.6944, 0.3167, 0.7083, 0.5417, 0.7028, 0.3139, 0.8306, 0.3083, 0.6667, 0.3278, 0.7944, 0.6667, 0.3333,\n",
    "     0.6667, 0.6667, 0.3972, 0.7361, 0.7028, 0.7278, 0.3333, 0.7417, 0.2917, 0.75, 0.2694, 0.7833, 0.4278, 0.6167, 0.7056, 0.3222, 0.725, 0.6667, 0.6667,\n",
    "     0.6667, 0.7028, 0.6667, 0.6889, 0.3139, 0.7444, 0.325, 0.7028, 0.2861, 0.7417, 0.7083, 0.6611, 0.7306, 0.3278, 0.7417, 0.7111, 0.3194, 0.7361, 0.5,\n",
    "     0.6667, 0.3333, 0.6667, 0.5472, 0.3056, 0.7694, 0.3056, 0.7694, 0.7667, 0.7083, 0.3222, 0.8306, 0.3278, 0.7167, 0.7, 0.7556, 0.7333, 0.7694, 0.3333,\n",
    "     0.6667, 0.6667, 0.6528, 0.3333, 0.75, 0.3, 0.6667, 0.4583, 0.7889, 0.6611, 0.325, 0.8278, 0.3083, 0.8, 0.6667, 0.6667, 0.6667, 0.6667, 0.6667, 0.6667,\n",
    "     0.6667, 0.3333, 0.6667, 0.3222, 0.7222, 0.2778, 0.7944, 0.325, 0.7806, 0.3222, 0.7361, 0.3556, 0.6806, 0.3444, 0.6667, 0.6667, 0.3333),\n",
    "    np.float32\n",
    ")"
   ]
  },
  {
   "cell_type": "code",
   "execution_count": 9,
   "metadata": {},
   "outputs": [],
   "source": [
    "x = np.ones((y.shape[0], 1)) # We us ones to mimic unconditional data"
   ]
  },
  {
   "cell_type": "markdown",
   "metadata": {},
   "source": [
    "### TensorFlow Dataset API"
   ]
  },
  {
   "cell_type": "markdown",
   "metadata": {},
   "source": [
    "[`tf.data.Dataset`](https://www.tensorflow.org/api_docs/python/tf/data/Dataset) API supports writing descriptive and efficient input pipelines"
   ]
  },
  {
   "cell_type": "code",
   "execution_count": 10,
   "metadata": {},
   "outputs": [
    {
     "data": {
      "text/plain": [
       "<PrefetchDataset shapes: ((None, 1), (None,)), types: (tf.float64, tf.float32)>"
      ]
     },
     "execution_count": 10,
     "metadata": {},
     "output_type": "execute_result"
    }
   ],
   "source": [
    "dataset = tf.data.Dataset.from_tensor_slices((x, y))\n",
    "dataset = dataset.shuffle(buffer_size=len(y))\n",
    "dataset = dataset.batch(32)\n",
    "dataset = dataset.prefetch(1)\n",
    "dataset"
   ]
  },
  {
   "cell_type": "markdown",
   "metadata": {},
   "source": [
    "## Fitting a Gaussian to the data"
   ]
  },
  {
   "cell_type": "markdown",
   "metadata": {},
   "source": [
    "### Output Distribution"
   ]
  },
  {
   "cell_type": "code",
   "execution_count": 11,
   "metadata": {},
   "outputs": [],
   "source": [
    "def gauss_lambda(pvector):\n",
    "   #First output of the network defines mu, the second the scale sigma \n",
    "   return tfd.Normal(loc=pvector[:,0], scale=1e-3 + tf.math.softplus(0.05 * pvector[:,1]))"
   ]
  },
  {
   "cell_type": "markdown",
   "metadata": {},
   "source": [
    "### Model Definition"
   ]
  },
  {
   "cell_type": "code",
   "execution_count": 12,
   "metadata": {},
   "outputs": [],
   "source": [
    "gauss_model = tf.keras.Sequential()\n",
    "gauss_model.add(InputLayer(input_shape = (1)))\n",
    "#Here could come a gigantus network\n",
    "gauss_model.add(Dense(2)) #We need to model the mean and the std of a Gaussian\n",
    "gauss_model.add(tfp.layers.DistributionLambda(\n",
    "    lambda pv:\n",
    "        tfd.Normal(loc=pv[:,0], scale=1e-3 + tf.math.softplus(0.05 * pv[:,1]))\n",
    "))"
   ]
  },
  {
   "cell_type": "code",
   "execution_count": 13,
   "metadata": {},
   "outputs": [],
   "source": [
    "gauss_model.compile(\n",
    "    optimizer=tf.optimizers.Adam(learning_rate=0.01),\n",
    "    loss=negloglik\n",
    ")"
   ]
  },
  {
   "cell_type": "markdown",
   "metadata": {},
   "source": [
    "### Training"
   ]
  },
  {
   "cell_type": "code",
   "execution_count": 14,
   "metadata": {},
   "outputs": [],
   "source": [
    "hist = gauss_model.fit(\n",
    "    dataset,\n",
    "    epochs=500,\n",
    "    verbose=False\n",
    ")"
   ]
  },
  {
   "cell_type": "code",
   "execution_count": 15,
   "metadata": {},
   "outputs": [
    {
     "data": {
      "text/plain": [
       "(<AxesSubplot:>, -0.23897387087345123)"
      ]
     },
     "execution_count": 15,
     "metadata": {},
     "output_type": "execute_result"
    },
    {
     "data": {
      "image/png": "[encoded data removed]",
      "text/plain": [
       "<Figure size 1152x576 with 1 Axes>"
      ]
     },
     "metadata": {},
     "output_type": "display_data"
    }
   ],
   "source": [
    "hist_df = pd.DataFrame(hist.history)\n",
    "hist_df.plot(figsize=(16,8)), hist_df.loss.min()"
   ]
  },
  {
   "cell_type": "markdown",
   "metadata": {},
   "source": [
    "### Result"
   ]
  },
  {
   "cell_type": "code",
   "execution_count": 16,
   "metadata": {},
   "outputs": [],
   "source": [
    "# Get the distribution for a single x-values (unconditioned so they are all 1)\n",
    "gauss = gauss_model(np.ones(1, dtype='float32'))"
   ]
  },
  {
   "cell_type": "code",
   "execution_count": 17,
   "metadata": {},
   "outputs": [],
   "source": [
    "times = np.linspace(0,1.2)\n",
    "gp = gauss.prob(times)"
   ]
  },
  {
   "cell_type": "code",
   "execution_count": 18,
   "metadata": {},
   "outputs": [
    {
     "name": "stdout",
     "output_type": "stream",
     "text": [
      "Mean of data  0.57680637  Mean of Distribution  [0.58073926]\n",
      "Spread of data  0.19100468  Mean of Distribution  [0.1916877]\n"
     ]
    },
    {
     "data": {
      "image/png": "[encoded data removed]",
      "text/plain": [
       "<Figure size 576x576 with 1 Axes>"
      ]
     },
     "metadata": {},
     "output_type": "display_data"
    }
   ],
   "source": [
    "fig = plt.figure(figsize=(8,8))\n",
    "plt.hist(y, 20, density=True)\n",
    "plt.plot(times, gp)\n",
    "\n",
    "print(\"Mean of data \", np.mean(y), \" Mean of Distribution \", gauss.mean().numpy())\n",
    "print(\"Spread of data \", np.std(y), \" Mean of Distribution \", gauss.stddev().numpy())"
   ]
  },
  {
   "cell_type": "markdown",
   "metadata": {},
   "source": [
    "As you can see the normal distribution is not flexible enough to represent the data source."
   ]
  },
  {
   "cell_type": "markdown",
   "metadata": {},
   "source": [
    "### Sample"
   ]
  },
  {
   "cell_type": "code",
   "execution_count": 19,
   "metadata": {},
   "outputs": [
    {
     "data": {
      "text/plain": [
       "<tf.Tensor: shape=(2, 1), dtype=float32, numpy=\n",
       "array([[0.23540682],\n",
       "       [0.6920429 ]], dtype=float32)>"
      ]
     },
     "execution_count": 19,
     "metadata": {},
     "output_type": "execute_result"
    }
   ],
   "source": [
    "gauss.sample(2)"
   ]
  },
  {
   "cell_type": "markdown",
   "metadata": {},
   "source": [
    "## Fitting the Normalizing Flow to the data"
   ]
  },
  {
   "cell_type": "markdown",
   "metadata": {},
   "source": [
    "### Probability Model"
   ]
  },
  {
   "cell_type": "code",
   "execution_count": 20,
   "metadata": {},
   "outputs": [],
   "source": [
    "bernstein_order = 9"
   ]
  },
  {
   "cell_type": "markdown",
   "metadata": {},
   "source": [
    "### Model Definition"
   ]
  },
  {
   "cell_type": "code",
   "execution_count": 21,
   "metadata": {
    "scrolled": false
   },
   "outputs": [],
   "source": [
    "flow_model = tf.keras.Sequential()\n",
    "flow_model.add(InputLayer(input_shape = (1)))\n",
    "#Here could come a gigantus network\n",
    "flow_model.add(Dense(4 + bernstein_order)) # Bernstein coefficients and 2 times scale and shift\n",
    "flow_model.add(tfp.layers.DistributionLambda(BernsteinFlow)) #<--- Replace the Normal distribution with the Transformed Distribution"
   ]
  },
  {
   "cell_type": "code",
   "execution_count": 22,
   "metadata": {},
   "outputs": [],
   "source": [
    "flow_model.compile(\n",
    "    optimizer=tf.optimizers.Adam(learning_rate=0.01),\n",
    "    loss=negloglik\n",
    ")"
   ]
  },
  {
   "cell_type": "markdown",
   "metadata": {
    "scrolled": true
   },
   "source": [
    "### Training"
   ]
  },
  {
   "cell_type": "code",
   "execution_count": 23,
   "metadata": {
    "scrolled": true
   },
   "outputs": [],
   "source": [
    "hist = flow_model.fit(\n",
    "    dataset,\n",
    "    epochs=500,\n",
    "    verbose=False\n",
    ")"
   ]
  },
  {
   "cell_type": "code",
   "execution_count": 24,
   "metadata": {},
   "outputs": [
    {
     "data": {
      "text/plain": [
       "(<AxesSubplot:>, -0.5810969471931458)"
      ]
     },
     "execution_count": 24,
     "metadata": {},
     "output_type": "execute_result"
    },
    {
     "data": {
      "image/png": "[encoded data removed]",
      "text/plain": [
       "<Figure size 1152x576 with 1 Axes>"
      ]
     },
     "metadata": {},
     "output_type": "display_data"
    }
   ],
   "source": [
    "hist_df = pd.DataFrame(hist.history)\n",
    "hist_df.plot(figsize=(16,8)), hist_df.loss.min()"
   ]
  },
  {
   "cell_type": "markdown",
   "metadata": {},
   "source": [
    "### Result"
   ]
  },
  {
   "cell_type": "code",
   "execution_count": 25,
   "metadata": {},
   "outputs": [],
   "source": [
    "# Get the distribution for a single x-values (unconditioned so they are all 1)\n",
    "flow = flow_model(np.ones(1, dtype='float32'))"
   ]
  },
  {
   "cell_type": "code",
   "execution_count": 34,
   "metadata": {},
   "outputs": [
    {
     "name": "stdout",
     "output_type": "stream",
     "text": [
      "Mean of data  0.57680637  Mean of Distribution  [0.58800787]\n",
      "Spread of data  0.19100468\n"
     ]
    },
    {
     "data": {
      "image/png": "[encoded data removed]",
      "text/plain": [
       "<Figure size 576x576 with 1 Axes>"
      ]
     },
     "metadata": {},
     "output_type": "display_data"
    }
   ],
   "source": [
    "times = np.linspace(0,1.2)\n",
    "fp = flow.prob(times)\n",
    "\n",
    "fig = plt.figure(figsize=(8,8))\n",
    "plt.hist(y, 20, density=True)\n",
    "plt.plot(times, fp)\n",
    "\n",
    "print(\"Mean of data \", np.mean(y), \" Mean of Distribution \", flow.mean().numpy())\n",
    "print(\"Spread of data \", np.std(y))"
   ]
  },
  {
   "cell_type": "markdown",
   "metadata": {},
   "source": [
    "The Normalizng Flow is flexible enough to represent even very non Gaussian Distributions."
   ]
  },
  {
   "cell_type": "code",
   "execution_count": 27,
   "metadata": {},
   "outputs": [],
   "source": [
    "b2 = flow.bijector.bijector.bijectors[0].shift\n",
    "a2 = flow.bijector.bijector.bijectors[1].scale\n",
    "theta = flow.bijector.bijector.bijectors[2].theta\n",
    "b1 = flow.bijector.bijector.bijectors[4].shift\n",
    "a1 = flow.bijector.bijector.bijectors[5].scale"
   ]
  },
  {
   "cell_type": "code",
   "execution_count": 28,
   "metadata": {},
   "outputs": [
    {
     "name": "stdout",
     "output_type": "stream",
     "text": [
      "\n",
      "a1 = 6.61399\n",
      "b1 = -2.6138806\n",
      "theta = array([-2.3121119, -0.8395277,  2.420292 ,  2.4615934,  2.4677472,\n",
      "        2.4728084,  2.4819472,  2.6291072, 20.335558 ], dtype=float32)\n",
      "a2 = 0.8400243\n",
      "b2 = -2.4640074\n",
      "\n"
     ]
    }
   ],
   "source": [
    "print(f\"\"\"\n",
    "a1 = {repr(a1.numpy())}\n",
    "b1 = {repr(b1.numpy())}\n",
    "theta = {repr(theta.numpy())}\n",
    "a2 = {repr(a2.numpy())}\n",
    "b2 = {repr(b2.numpy())}\n",
    "\"\"\")"
   ]
  },
  {
   "cell_type": "markdown",
   "metadata": {},
   "source": [
    "### Sample"
   ]
  },
  {
   "cell_type": "code",
   "execution_count": 29,
   "metadata": {},
   "outputs": [
    {
     "data": {
      "text/plain": [
       "<tf.Tensor: shape=(2, 1), dtype=float32, numpy=\n",
       "array([[0.44966036],\n",
       "       [0.82262194]], dtype=float32)>"
      ]
     },
     "execution_count": 29,
     "metadata": {},
     "output_type": "execute_result"
    }
   ],
   "source": [
    "flow.sample(2)"
   ]
  }
 ],
 "metadata": {
  "accelerator": "GPU",
  "cite2c": {
   "citations": {
    "7364384/8XZZR6RX": {
     "DOI": "10.2307/2347385",
     "URL": "https://www.jstor.org/stable/2347385",
     "abstract": "An analysis of data on the duration times and waiting times for eruptions from the Old Faithful Geyser reveals an interesting time series structure. A tentative physical model, derived from Rinehart, is outlined and a corresponding first-order Markov chain examined. It is shown that a second-order models is necessary to explain the observed correlations in the data. A curious clustering effect is apparent in the autocorrelation function when plotted over a large range of lags. Similar patterns are observed in simulations from the fitted second-order model.",
     "accessed": {
      "day": 21,
      "month": 7,
      "year": 2020
     },
     "archive": "JSTOR",
     "author": [
      {
       "family": "Azzalini",
       "given": "A."
      },
      {
       "family": "Bowman",
       "given": "A. W."
      }
     ],
     "container-title": "Journal of the Royal Statistical Society. Series C (Applied Statistics)",
     "id": "7364384/8XZZR6RX",
     "issue": "3",
     "issued": {
      "year": 1990
     },
     "note": "Publisher: [Wiley, Royal Statistical Society]",
     "page": "357-365",
     "page-first": "357",
     "title": "A Look at Some Data on the Old Faithful Geyser",
     "type": "article-journal",
     "volume": "39"
    }
   }
  },
  "colab": {
   "collapsed_sections": [],
   "name": "Bernstein_Loss.ipynb",
   "provenance": [],
   "toc_visible": true
  },
  "kernelspec": {
   "display_name": "Python 3",
   "language": "python",
   "name": "python3"
  },
  "language_info": {
   "codemirror_mode": {
    "name": "ipython",
    "version": 3
   },
   "file_extension": ".py",
   "mimetype": "text/x-python",
   "name": "python",
   "nbconvert_exporter": "python",
   "pygments_lexer": "ipython3",
   "version": "3.8.5"
  },
  "latex_envs": {
   "LaTeX_envs_menu_present": false,
   "autoclose": false,
   "autocomplete": true,
   "bibliofile": "biblio.bib",
   "cite_by": "number",
   "current_citInitial": 1,
   "eqLabelWithNumbers": false,
   "eqNumInitial": 1,
   "hotkeys": {
    "equation": "Ctrl-E",
    "itemize": "Ctrl-I"
   },
   "labels_anchors": true,
   "latex_user_defs": false,
   "report_style_numbering": false,
   "user_envs_cfg": false
  },
  "toc": {
   "base_numbering": 1,
   "nav_menu": {},
   "number_sections": true,
   "sideBar": true,
   "skip_h1_title": true,
   "title_cell": "Table of Contents",
   "title_sidebar": "Contents",
   "toc_cell": true,
   "toc_position": {},
   "toc_section_display": true,
   "toc_window_display": true
  },
  "varInspector": {
   "cols": {
    "lenName": 16,
    "lenType": 16,
    "lenVar": 40
   },
   "kernels_config": {
    "python": {
     "delete_cmd_postfix": "",
     "delete_cmd_prefix": "del ",
     "library": "var_list.py",
     "varRefreshCmd": "print(var_dic_list())"
    },
    "r": {
     "delete_cmd_postfix": ") ",
     "delete_cmd_prefix": "rm(",
     "library": "var_list.r",
     "varRefreshCmd": "cat(var_dic_list()) "
    }
   },
   "position": {
    "height": "864.85px",
    "left": "1615px",
    "right": "20px",
    "top": "120px",
    "width": "283.667px"
   },
   "types_to_exclude": [
    "module",
    "function",
    "builtin_function_or_method",
    "instance",
    "_Feature"
   ],
   "window_display": false
  }
 },
 "nbformat": 4,
 "nbformat_minor": 1
}
